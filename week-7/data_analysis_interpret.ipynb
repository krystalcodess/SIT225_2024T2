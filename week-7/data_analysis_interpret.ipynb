{
 "cells": [
  {
   "cell_type": "markdown",
   "metadata": {},
   "source": [
    "# SIT225: Data Analysis & interpretation\n",
    "\n",
    "Run each cell to generate output and finally convert this notebook to PDF."
   ]
  },
  {
   "cell_type": "code",
   "execution_count": 1,
   "metadata": {},
   "outputs": [
    {
     "name": "stdout",
     "output_type": "stream",
     "text": [
      "223212228 Kystal_Nguyen\n"
     ]
    }
   ],
   "source": [
    "# Fill in student ID and name\n",
    "\n",
    "student_id = \"223212228\"\n",
    "student_first_last_name = \"Kystal_Nguyen\"\n",
    "print(student_id, student_first_last_name)"
   ]
  },
  {
   "cell_type": "markdown",
   "metadata": {},
   "source": [
    "# 1. Descriptive Statistics\n",
    "\n",
    "Descriptive statistics summarizes important features of a data set such as:\n",
    "* Count\n",
    "* Sum\n",
    "* Standard deviation\n",
    "* Percentile\n",
    "* Average "
   ]
  },
  {
   "cell_type": "code",
   "execution_count": 2,
   "metadata": {},
   "outputs": [
    {
     "name": "stdout",
     "output_type": "stream",
     "text": [
      "Defaulting to user installation because normal site-packages is not writeable\n",
      "Requirement already satisfied: pandas in /Library/Frameworks/Python.framework/Versions/3.11/lib/python3.11/site-packages (2.0.3)\n",
      "Requirement already satisfied: numpy in /Library/Frameworks/Python.framework/Versions/3.11/lib/python3.11/site-packages (1.25.1)\n",
      "Requirement already satisfied: seaborn in /Users/d.o.npat/Library/Python/3.11/lib/python/site-packages (0.13.2)\n",
      "Requirement already satisfied: python-dateutil>=2.8.2 in /Library/Frameworks/Python.framework/Versions/3.11/lib/python3.11/site-packages (from pandas) (2.8.2)\n",
      "Requirement already satisfied: pytz>=2020.1 in /Library/Frameworks/Python.framework/Versions/3.11/lib/python3.11/site-packages (from pandas) (2023.3)\n",
      "Requirement already satisfied: tzdata>=2022.1 in /Library/Frameworks/Python.framework/Versions/3.11/lib/python3.11/site-packages (from pandas) (2023.3)\n",
      "Requirement already satisfied: matplotlib!=3.6.1,>=3.4 in /Users/d.o.npat/Library/Python/3.11/lib/python/site-packages (from seaborn) (3.9.0)\n",
      "Requirement already satisfied: contourpy>=1.0.1 in /Users/d.o.npat/Library/Python/3.11/lib/python/site-packages (from matplotlib!=3.6.1,>=3.4->seaborn) (1.2.1)\n",
      "Requirement already satisfied: cycler>=0.10 in /Users/d.o.npat/Library/Python/3.11/lib/python/site-packages (from matplotlib!=3.6.1,>=3.4->seaborn) (0.12.1)\n",
      "Requirement already satisfied: fonttools>=4.22.0 in /Users/d.o.npat/Library/Python/3.11/lib/python/site-packages (from matplotlib!=3.6.1,>=3.4->seaborn) (4.51.0)\n",
      "Requirement already satisfied: kiwisolver>=1.3.1 in /Users/d.o.npat/Library/Python/3.11/lib/python/site-packages (from matplotlib!=3.6.1,>=3.4->seaborn) (1.4.5)\n",
      "Requirement already satisfied: packaging>=20.0 in /Users/d.o.npat/Library/Python/3.11/lib/python/site-packages (from matplotlib!=3.6.1,>=3.4->seaborn) (23.2)\n",
      "Requirement already satisfied: pillow>=8 in /Users/d.o.npat/Library/Python/3.11/lib/python/site-packages (from matplotlib!=3.6.1,>=3.4->seaborn) (10.3.0)\n",
      "Requirement already satisfied: pyparsing>=2.3.1 in /Users/d.o.npat/Library/Python/3.11/lib/python/site-packages (from matplotlib!=3.6.1,>=3.4->seaborn) (3.1.2)\n",
      "Requirement already satisfied: six>=1.5 in /Library/Frameworks/Python.framework/Versions/3.11/lib/python3.11/site-packages (from python-dateutil>=2.8.2->pandas) (1.16.0)\n",
      "         Duration  Average_Pulse   Max_Pulse  Calorie_Burnage  Hours_Work  \\\n",
      "count  163.000000     163.000000  163.000000       163.000000  163.000000   \n",
      "mean    64.263804     107.723926  134.226994       382.368098    4.386503   \n",
      "std     42.994520      14.625062   16.403967       274.227106    3.923772   \n",
      "min     15.000000      80.000000  100.000000        50.000000    0.000000   \n",
      "25%     45.000000     100.000000  124.000000       256.500000    0.000000   \n",
      "50%     60.000000     105.000000  131.000000       320.000000    5.000000   \n",
      "75%     60.000000     111.000000  141.000000       388.500000    8.000000   \n",
      "max    300.000000     159.000000  184.000000      1860.000000   11.000000   \n",
      "\n",
      "       Hours_Sleep  \n",
      "count   163.000000  \n",
      "mean      7.680982  \n",
      "std       0.663934  \n",
      "min       5.000000  \n",
      "25%       7.500000  \n",
      "50%       8.000000  \n",
      "75%       8.000000  \n",
      "max      12.000000  \n"
     ]
    }
   ],
   "source": [
    "# Make sure necessary packages are already installed.\n",
    "!pip install pandas numpy seaborn\n",
    "\n",
    "import pandas as pd\n",
    "import numpy as np\n",
    "import seaborn as sns\n",
    "\n",
    "full_health_data = pd.read_csv(\"full_health_data.csv\", header=0, sep=\",\")\n",
    "print (full_health_data.describe())"
   ]
  },
  {
   "cell_type": "markdown",
   "metadata": {},
   "source": [
    "## 1.1 Percentile\n",
    "### 25%, 50% and 75% - Percentiles\n",
    "\n",
    "Observe the output of the above cell for 25%, 50% and 75% of all the columns.\n",
    "Let's explain for Average_Pulse:\n",
    "* 25% of all of the training sessions have an average pulse of 100 beats per minute or lower. If we flip the statement, it means that 75% of all of the training sessions have an average pulse of 100 beats per minute or higher.\n",
    "* 75% of all the training session have an average pulse of 111 or lower. If we flip the statement, it means that 25% of all of the training sessions have an average pulse of 111 beats per minute or higher."
   ]
  },
  {
   "cell_type": "code",
   "execution_count": 3,
   "metadata": {},
   "outputs": [
    {
     "name": "stdout",
     "output_type": "stream",
     "text": [
      "parcentile_10 92.2\n",
      "parcentile_25 100.0\n",
      "parcentile_50 105.0\n",
      "parcentile_75 111.0\n"
     ]
    }
   ],
   "source": [
    "avg_pulse = full_health_data[\"Average_Pulse\"]\n",
    "print(\"parcentile_10\", np.percentile(avg_pulse, 10) )\n",
    "print(\"parcentile_25\", np.percentile(avg_pulse, 25) )\n",
    "print(\"parcentile_50\", np.percentile(avg_pulse, 50) )\n",
    "print(\"parcentile_75\", np.percentile(avg_pulse, 75) )\n",
    "\n"
   ]
  },
  {
   "cell_type": "markdown",
   "metadata": {},
   "source": [
    "### Question: Calculate percentiles for Max_Pulse.\n",
    "You should answer a follow up question in the activity sheet."
   ]
  },
  {
   "cell_type": "code",
   "execution_count": 4,
   "metadata": {},
   "outputs": [
    {
     "name": "stdout",
     "output_type": "stream",
     "text": [
      "percentile_10 120.0\n",
      "percentile_25 124.0\n",
      "percentile_50 131.0\n",
      "percentile_75 141.0\n"
     ]
    }
   ],
   "source": [
    "max_pulse = full_health_data[\"Max_Pulse\"]\n",
    "print(\"percentile_10\", np.percentile(max_pulse, 10))\n",
    "print(\"percentile_25\", np.percentile(max_pulse, 25))\n",
    "print(\"percentile_50\", np.percentile(max_pulse, 50))\n",
    "print(\"percentile_75\", np.percentile(max_pulse, 75))"
   ]
  },
  {
   "cell_type": "markdown",
   "metadata": {},
   "source": [
    "## 1.2 Standard Deviation\n",
    "Standard deviation is a number that describes how spread out the observations are.\n",
    "\n",
    "A mathematical function will have difficulties in predicting precise values, if the observations are \"spread\". Standard deviation is a measure of uncertainty.\n",
    "\n",
    "A low standard deviation means that most of the numbers are close to the mean (average) value.\n",
    "\n",
    "A high standard deviation means that the values are spread out over a wider range."
   ]
  },
  {
   "cell_type": "code",
   "execution_count": 5,
   "metadata": {},
   "outputs": [
    {
     "name": "stdout",
     "output_type": "stream",
     "text": [
      "Duration            42.862432\n",
      "Average_Pulse       14.580131\n",
      "Max_Pulse           16.353571\n",
      "Calorie_Burnage    273.384624\n",
      "Hours_Work           3.911718\n",
      "Hours_Sleep          0.661895\n",
      "dtype: float64\n"
     ]
    }
   ],
   "source": [
    "import numpy as np\n",
    "\n",
    "# We can use the std() function from Numpy to find the standard deviation of a variable:\n",
    "\n",
    "std = np.std(full_health_data)\n",
    "print(std)"
   ]
  },
  {
   "cell_type": "markdown",
   "metadata": {},
   "source": [
    "### 1.2.1 Coefficient of variation\n",
    "\n",
    "In the above cell, what does standard deviation numbers mean?\n",
    "\n",
    "The coefficient of variation is used to get an idea of how large the standard deviation is.\n",
    "\n",
    "Mathematically, the coefficient of variation is defined as: $$Coefficient of Variation = Standard Deviation / Mean$$"
   ]
  },
  {
   "cell_type": "code",
   "execution_count": 6,
   "metadata": {},
   "outputs": [
    {
     "name": "stdout",
     "output_type": "stream",
     "text": [
      "Duration           0.367051\n",
      "Average_Pulse      0.124857\n",
      "Max_Pulse          0.140043\n",
      "Calorie_Burnage    2.341122\n",
      "Hours_Work         0.033498\n",
      "Hours_Sleep        0.005668\n",
      "dtype: float64\n"
     ]
    }
   ],
   "source": [
    "cv = np.std(full_health_data) / np.mean(full_health_data)\n",
    "print(cv)\n",
    "\n",
    "# We see that the variables Duration and Calorie_Burnage has \n",
    "# a high Standard Deviation compared to Max_Pulse, Average_Pulse and Hours_Sleep.\n",
    "# "
   ]
  },
  {
   "cell_type": "markdown",
   "metadata": {},
   "source": [
    "## 1.3 Variance\n",
    "Variance is another number that indicates how spread out the values are.\n",
    "\n",
    "In fact, if you take the square root of the variance, you get the standard deviation. Or the other way around, if you multiply the standard deviation by itself, you get the variance!"
   ]
  },
  {
   "cell_type": "code",
   "execution_count": 7,
   "metadata": {},
   "outputs": [
    {
     "name": "stdout",
     "output_type": "stream",
     "text": [
      "Duration            1837.188076\n",
      "Average_Pulse        212.580225\n",
      "Max_Pulse            267.439271\n",
      "Calorie_Burnage    74739.152847\n",
      "Hours_Work            15.301536\n",
      "Hours_Sleep            0.438105\n",
      "dtype: float64\n"
     ]
    }
   ],
   "source": [
    "var = np.var(full_health_data)\n",
    "print(var)"
   ]
  },
  {
   "cell_type": "markdown",
   "metadata": {},
   "source": [
    "## 1.4 Correlation\n",
    "\n",
    "Correlation measures the relationship between two variables.\n",
    "\n",
    "A function has a purpose to predict a value, by converting input (x) to output (f(x)). We can say also say that a function uses the relationship between two variables for prediction.\n",
    "\n",
    "### Correlation Coefficient\n",
    "The correlation coefficient measures the relationship between two variables.\n",
    "\n",
    "The correlation coefficient can never be less than -1 or higher than 1.\n",
    "* 1 = there is a perfect linear relationship between the variables\n",
    "* 0 = there is no linear relationship between the variables\n",
    "* -1 = there is a perfect negative linear relationship between the variables\n",
    "\n",
    "#### Perfect Linear Relationship (Correlation Coefficient = 1)\n",
    "\n",
    "it exists a perfect linear relationship between Average_Pulse and Calorie_Burnage."
   ]
  },
  {
   "cell_type": "code",
   "execution_count": 8,
   "metadata": {},
   "outputs": [
    {
     "data": {
      "image/png": "[encoded data removed]",
      "text/plain": [
       "<Figure size 640x480 with 1 Axes>"
      ]
     },
     "metadata": {},
     "output_type": "display_data"
    }
   ],
   "source": [
    "# Positive correlation\n",
    "# \n",
    "\n",
    "import matplotlib.pyplot as plt\n",
    "\n",
    "def create_linear_health_data():\n",
    "    data = [\n",
    "        {'Duration':30, 'Average_Pulse':80, 'Max_Pulse':120,'Calorie_Burnage':240,'Hours_Work':10,'Hours_Sleep':7},\n",
    "        {'Duration':45, 'Average_Pulse':85, 'Max_Pulse':120,'Calorie_Burnage':250,'Hours_Work':10,'Hours_Sleep':7},\n",
    "        {'Duration':45, 'Average_Pulse':90, 'Max_Pulse':130,'Calorie_Burnage':260,'Hours_Work':8,'Hours_Sleep':7},\n",
    "        {'Duration':60, 'Average_Pulse':95, 'Max_Pulse':130,'Calorie_Burnage':270,'Hours_Work':8,'Hours_Sleep':7},\n",
    "        {'Duration':60, 'Average_Pulse':100, 'Max_Pulse':140,'Calorie_Burnage':280,'Hours_Work':0,'Hours_Sleep':7},\n",
    "        {'Duration':60, 'Average_Pulse':105, 'Max_Pulse':140,'Calorie_Burnage':290,'Hours_Work':7,'Hours_Sleep':8},\n",
    "        {'Duration':60, 'Average_Pulse':110, 'Max_Pulse':145,'Calorie_Burnage':300,'Hours_Work':7,'Hours_Sleep':8},\n",
    "        {'Duration':45, 'Average_Pulse':115, 'Max_Pulse':145,'Calorie_Burnage':310,'Hours_Work':8,'Hours_Sleep':8},\n",
    "        {'Duration':60, 'Average_Pulse':120, 'Max_Pulse':150,'Calorie_Burnage':320,'Hours_Work':0,'Hours_Sleep':8},\n",
    "        {'Duration':45, 'Average_Pulse':125, 'Max_Pulse':150,'Calorie_Burnage':330,'Hours_Work':8,'Hours_Sleep':8},\n",
    "    ]\n",
    "    return data\n",
    "\n",
    "health_data = pd.DataFrame.from_dict(create_linear_health_data())\n",
    "health_data.plot(x ='Average_Pulse', y='Calorie_Burnage', kind='scatter')\n",
    "plt.show()"
   ]
  },
  {
   "cell_type": "markdown",
   "metadata": {},
   "source": [
    "#### Perfect Negative Linear Relationship (Correlation Coefficient = -1)\n",
    "\n",
    "We have plotted fictional data here. The x-axis represents the amount of hours worked at our job before a training session. The y-axis is Calorie_Burnage.\n",
    "\n",
    "If we work longer hours, we tend to have lower calorie burnage because we are exhausted before the training session.\n",
    "\n",
    "The correlation coefficient here is -1."
   ]
  },
  {
   "cell_type": "code",
   "execution_count": 9,
   "metadata": {},
   "outputs": [
    {
     "data": {
      "image/png": "[encoded data removed]",
      "text/plain": [
       "<Figure size 640x480 with 1 Axes>"
      ]
     },
     "metadata": {},
     "output_type": "display_data"
    }
   ],
   "source": [
    "# Negative correlation\n",
    "# \n",
    "negative_corr = {'Hours_Work_Before_Training': [10,9,8,7,6,5,4,3,2,1],\n",
    "'Calorie_Burnage': [220,240,260,280,300,320,340,360,380,400]}\n",
    "negative_corr = pd.DataFrame(data=negative_corr)\n",
    "\n",
    "negative_corr.plot(x ='Hours_Work_Before_Training', y='Calorie_Burnage', kind='scatter')\n",
    "plt.show()"
   ]
  },
  {
   "cell_type": "markdown",
   "metadata": {},
   "source": [
    "##### No Linear Relationship (Correlation coefficient = 0)\n",
    "\n",
    "As you can see, there is no linear relationship between the two variables. It means that longer training session does not lead to higher Max_Pulse.\n",
    "\n",
    "The correlation coefficient here is 0."
   ]
  },
  {
   "cell_type": "code",
   "execution_count": 10,
   "metadata": {},
   "outputs": [
    {
     "data": {
      "image/png": "[encoded data removed]",
      "text/plain": [
       "<Figure size 640x480 with 1 Axes>"
      ]
     },
     "metadata": {},
     "output_type": "display_data"
    }
   ],
   "source": [
    "full_health_data.plot(x ='Duration', y='Max_Pulse', kind='scatter')\n",
    "plt.show()"
   ]
  },
  {
   "cell_type": "markdown",
   "metadata": {},
   "source": [
    "## 1.5 Correlation Matrix\n",
    "\n",
    "A matrix is an array of numbers arranged in rows and columns.\n",
    "\n",
    "A correlation matrix is simply a table showing the correlation coefficients between variables.\n",
    "\n",
    "We can use the corr() function in Python to create a correlation matrix. We also use the round() function to round the output to two decimals:"
   ]
  },
  {
   "cell_type": "code",
   "execution_count": 11,
   "metadata": {},
   "outputs": [
    {
     "name": "stdout",
     "output_type": "stream",
     "text": [
      "                 Duration  Average_Pulse  Max_Pulse  Calorie_Burnage  \\\n",
      "Duration             1.00          -0.17       0.00             0.89   \n",
      "Average_Pulse       -0.17           1.00       0.79             0.02   \n",
      "Max_Pulse            0.00           0.79       1.00             0.20   \n",
      "Calorie_Burnage      0.89           0.02       0.20             1.00   \n",
      "Hours_Work          -0.12          -0.28      -0.27            -0.14   \n",
      "Hours_Sleep          0.07           0.03       0.09             0.08   \n",
      "\n",
      "                 Hours_Work  Hours_Sleep  \n",
      "Duration              -0.12         0.07  \n",
      "Average_Pulse         -0.28         0.03  \n",
      "Max_Pulse             -0.27         0.09  \n",
      "Calorie_Burnage       -0.14         0.08  \n",
      "Hours_Work             1.00        -0.14  \n",
      "Hours_Sleep           -0.14         1.00  \n",
      "                 Duration  Average_Pulse  Max_Pulse  Calorie_Burnage\n",
      "Duration             1.00          -0.17       0.00             0.89\n",
      "Average_Pulse       -0.17           1.00       0.79             0.02\n",
      "Max_Pulse            0.00           0.79       1.00             0.20\n",
      "Calorie_Burnage      0.89           0.02       0.20             1.00\n"
     ]
    }
   ],
   "source": [
    "Corr_Matrix = round(full_health_data.corr(),2)\n",
    "print(Corr_Matrix)\n",
    "\n",
    "# Drop 2 columns - Hours_Work and Hours_Sleep to view the matrix nice.\n",
    "# \n",
    "health_part = full_health_data.drop(columns=['Hours_Work', 'Hours_Sleep'])\n",
    "Corr_Matrix = round(health_part.corr(),2)\n",
    "print(Corr_Matrix)"
   ]
  },
  {
   "cell_type": "markdown",
   "metadata": {},
   "source": [
    "##### Using a Heatmap\n",
    "\n",
    "We can use a Heatmap to Visualize the Correlation Between Variables:"
   ]
  },
  {
   "cell_type": "code",
   "execution_count": 12,
   "metadata": {},
   "outputs": [
    {
     "data": {
      "image/png": "[encoded data removed]",
      "text/plain": [
       "<Figure size 640x480 with 2 Axes>"
      ]
     },
     "metadata": {},
     "output_type": "display_data"
    }
   ],
   "source": [
    "import matplotlib.pyplot as plt\n",
    "import seaborn as sns\n",
    "\n",
    "correlation_full_health = full_health_data.corr()\n",
    "\n",
    "axis_corr = sns.heatmap(\n",
    "    correlation_full_health,\n",
    "    vmin=-1, vmax=1, center=0,\n",
    "    cmap=sns.diverging_palette(50, 500, n=500),\n",
    "    square=True\n",
    ")\n",
    "\n",
    "plt.show()"
   ]
  },
  {
   "cell_type": "markdown",
   "metadata": {},
   "source": [
    "## 1.6 Correlation Does not imply Causality\n",
    "\n",
    "Correlation measures the numerical relationship between two variables.\n",
    "\n",
    "A high correlation coefficient (close to 1), does not mean that we can for sure conclude an actual relationship between two variables.\n",
    "\n",
    "A classic example:\n",
    "\n",
    "* During the summer, the sale of ice cream at a beach increases\n",
    "* Simultaneously, drowning accidents also increase as well\n",
    "\n",
    "**Question:** Does this mean that increase of ice cream sale is a direct cause of increased drowning accidents?\n",
    "\n"
   ]
  },
  {
   "cell_type": "markdown",
   "metadata": {},
   "source": [
    "## 1.7 Linear Regression\n",
    "\n",
    "The term regression is used when you try to find the relationship between variables.\n",
    "\n",
    "In Machine Learning and in statistical modeling, that relationship is used to predict the outcome of events.\n",
    "\n",
    "We will use Scikit-learn to train various regression models. Scikit-learn is a popular Machine Learning (ML) library that offers various tools for creating and training ML algorithms, feature engineering, data cleaning, and evaluating and testing models. It was designed to be accessible, and to work seamlessly with popular libraries like NumPy and Pandas.\n",
    "\n",
    "We see how to apply a simple regression model for predicting Calorie_Burnage on various factors such as Average_Pulse or Duration.\n"
   ]
  },
  {
   "cell_type": "code",
   "execution_count": 13,
   "metadata": {},
   "outputs": [
    {
     "name": "stdout",
     "output_type": "stream",
     "text": [
      "Defaulting to user installation because normal site-packages is not writeable\n",
      "Requirement already satisfied: seaborn in /Users/d.o.npat/Library/Python/3.11/lib/python/site-packages (0.13.2)\n",
      "Requirement already satisfied: plotly in /Users/d.o.npat/Library/Python/3.11/lib/python/site-packages (5.23.0)\n",
      "Requirement already satisfied: nbformat in /Users/d.o.npat/Library/Python/3.11/lib/python/site-packages (5.10.4)\n",
      "Requirement already satisfied: numpy!=1.24.0,>=1.20 in /Library/Frameworks/Python.framework/Versions/3.11/lib/python3.11/site-packages (from seaborn) (1.25.1)\n",
      "Requirement already satisfied: pandas>=1.2 in /Library/Frameworks/Python.framework/Versions/3.11/lib/python3.11/site-packages (from seaborn) (2.0.3)\n",
      "Requirement already satisfied: matplotlib!=3.6.1,>=3.4 in /Users/d.o.npat/Library/Python/3.11/lib/python/site-packages (from seaborn) (3.9.0)\n",
      "Requirement already satisfied: tenacity>=6.2.0 in /Users/d.o.npat/Library/Python/3.11/lib/python/site-packages (from plotly) (9.0.0)\n",
      "Requirement already satisfied: packaging in /Users/d.o.npat/Library/Python/3.11/lib/python/site-packages (from plotly) (23.2)\n",
      "Requirement already satisfied: fastjsonschema>=2.15 in /Users/d.o.npat/Library/Python/3.11/lib/python/site-packages (from nbformat) (2.20.0)\n",
      "Requirement already satisfied: jsonschema>=2.6 in /Users/d.o.npat/Library/Python/3.11/lib/python/site-packages (from nbformat) (4.23.0)\n",
      "Requirement already satisfied: jupyter-core!=5.0.*,>=4.12 in /Users/d.o.npat/Library/Python/3.11/lib/python/site-packages (from nbformat) (5.4.0)\n",
      "Requirement already satisfied: traitlets>=5.1 in /Users/d.o.npat/Library/Python/3.11/lib/python/site-packages (from nbformat) (5.11.2)\n",
      "Requirement already satisfied: attrs>=22.2.0 in /Users/d.o.npat/Library/Python/3.11/lib/python/site-packages (from jsonschema>=2.6->nbformat) (23.2.0)\n",
      "Requirement already satisfied: jsonschema-specifications>=2023.03.6 in /Users/d.o.npat/Library/Python/3.11/lib/python/site-packages (from jsonschema>=2.6->nbformat) (2023.12.1)\n",
      "Requirement already satisfied: referencing>=0.28.4 in /Users/d.o.npat/Library/Python/3.11/lib/python/site-packages (from jsonschema>=2.6->nbformat) (0.35.1)\n",
      "Requirement already satisfied: rpds-py>=0.7.1 in /Users/d.o.npat/Library/Python/3.11/lib/python/site-packages (from jsonschema>=2.6->nbformat) (0.20.0)\n",
      "Requirement already satisfied: platformdirs>=2.5 in /Users/d.o.npat/Library/Python/3.11/lib/python/site-packages (from jupyter-core!=5.0.*,>=4.12->nbformat) (3.11.0)\n",
      "Requirement already satisfied: contourpy>=1.0.1 in /Users/d.o.npat/Library/Python/3.11/lib/python/site-packages (from matplotlib!=3.6.1,>=3.4->seaborn) (1.2.1)\n",
      "Requirement already satisfied: cycler>=0.10 in /Users/d.o.npat/Library/Python/3.11/lib/python/site-packages (from matplotlib!=3.6.1,>=3.4->seaborn) (0.12.1)\n",
      "Requirement already satisfied: fonttools>=4.22.0 in /Users/d.o.npat/Library/Python/3.11/lib/python/site-packages (from matplotlib!=3.6.1,>=3.4->seaborn) (4.51.0)\n",
      "Requirement already satisfied: kiwisolver>=1.3.1 in /Users/d.o.npat/Library/Python/3.11/lib/python/site-packages (from matplotlib!=3.6.1,>=3.4->seaborn) (1.4.5)\n",
      "Requirement already satisfied: pillow>=8 in /Users/d.o.npat/Library/Python/3.11/lib/python/site-packages (from matplotlib!=3.6.1,>=3.4->seaborn) (10.3.0)\n",
      "Requirement already satisfied: pyparsing>=2.3.1 in /Users/d.o.npat/Library/Python/3.11/lib/python/site-packages (from matplotlib!=3.6.1,>=3.4->seaborn) (3.1.2)\n",
      "Requirement already satisfied: python-dateutil>=2.7 in /Library/Frameworks/Python.framework/Versions/3.11/lib/python3.11/site-packages (from matplotlib!=3.6.1,>=3.4->seaborn) (2.8.2)\n",
      "Requirement already satisfied: pytz>=2020.1 in /Library/Frameworks/Python.framework/Versions/3.11/lib/python3.11/site-packages (from pandas>=1.2->seaborn) (2023.3)\n",
      "Requirement already satisfied: tzdata>=2022.1 in /Library/Frameworks/Python.framework/Versions/3.11/lib/python3.11/site-packages (from pandas>=1.2->seaborn) (2023.3)\n",
      "Requirement already satisfied: six>=1.5 in /Library/Frameworks/Python.framework/Versions/3.11/lib/python3.11/site-packages (from python-dateutil>=2.7->matplotlib!=3.6.1,>=3.4->seaborn) (1.16.0)\n",
      "Note: you may need to restart the kernel to use updated packages.\n"
     ]
    },
    {
     "data": {
      "application/vnd.plotly.v1+json": {
       "config": {
        "plotlyServerURL": "https://plot.ly"
       },
       "data": [
        {
         "hovertemplate": "Average_Pulse=%{x}<br>Calorie_Burnage=%{y}<extra></extra>",
         "legendgroup": "",
         "marker": {
          "color": "#636efa",
          "opacity": 0.65,
          "symbol": "circle"
         },
         "mode": "markers",
         "name": "",
         "orientation": "v",
         "showlegend": false,
         "type": "scatter",
         "x": [
          110,
          117,
          103,
          109,
          117,
          102,
          110,
          104,
          109,
          98,
          103,
          100,
          106,
          104,
          98,
          98,
          100,
          90,
          103,
          97,
          108,
          100,
          130,
          105,
          102,
          100,
          92,
          103,
          100,
          102,
          92,
          101,
          93,
          107,
          114,
          100,
          100,
          104,
          98,
          100,
          111,
          111,
          99,
          109,
          111,
          108,
          111,
          107,
          123,
          106,
          118,
          136,
          121,
          118,
          115,
          153,
          123,
          108,
          110,
          109,
          118,
          110,
          90,
          105,
          107,
          106,
          108,
          97,
          100,
          97,
          114,
          98,
          105,
          110,
          100,
          100,
          159,
          149,
          103,
          100,
          100,
          151,
          102,
          100,
          129,
          83,
          101,
          107,
          90,
          80,
          150,
          151,
          95,
          152,
          109,
          93,
          95,
          90,
          90,
          90,
          92,
          93,
          90,
          90,
          90,
          137,
          102,
          107,
          124,
          108,
          108,
          116,
          97,
          105,
          103,
          112,
          100,
          119,
          107,
          111,
          98,
          97,
          109,
          99,
          114,
          104,
          107,
          103,
          106,
          103,
          136,
          117,
          115,
          113,
          141,
          108,
          97,
          100,
          122,
          136,
          106,
          107,
          112,
          103,
          110,
          106,
          109,
          109,
          150,
          105,
          97,
          100,
          114,
          80,
          85,
          90,
          95,
          100,
          105,
          110,
          115,
          120,
          125
         ],
         "xaxis": "x",
         "y": [
          409,
          479,
          340,
          282,
          406,
          300,
          374,
          253,
          195,
          269,
          329,
          250,
          345,
          379,
          275,
          215,
          300,
          180,
          323,
          243,
          364,
          282,
          300,
          246,
          334,
          250,
          241,
          353,
          280,
          380,
          243,
          299,
          223,
          361,
          415,
          300,
          300,
          266,
          286,
          329,
          400,
          397,
          273,
          387,
          300,
          298,
          397,
          380,
          643,
          263,
          486,
          238,
          450,
          413,
          305,
          226,
          321,
          1376,
          1034,
          853,
          341,
          131,
          800,
          873,
          816,
          110,
          1500,
          1115,
          700,
          953,
          304,
          563,
          251,
          300,
          500,
          1729,
          319,
          344,
          151,
          500,
          225,
          300,
          234,
          1000,
          242,
          50,
          600,
          1200,
          105,
          50,
          127,
          229,
          128,
          244,
          188,
          604,
          77,
          500,
          500,
          500,
          92,
          124,
          800,
          86,
          500,
          1860,
          325,
          275,
          124,
          367,
          351,
          443,
          277,
          353,
          332,
          193,
          100,
          336,
          344,
          368,
          271,
          275,
          382,
          466,
          384,
          342,
          357,
          335,
          327,
          339,
          189,
          317,
          318,
          308,
          222,
          390,
          288,
          250,
          335,
          470,
          270,
          400,
          361,
          185,
          409,
          343,
          353,
          374,
          275,
          328,
          270,
          270,
          382,
          240,
          250,
          260,
          270,
          280,
          290,
          300,
          310,
          320,
          330
         ],
         "yaxis": "y"
        },
        {
         "name": "Regression Fit",
         "type": "scatter",
         "x": [
          80,
          80.79797979797979,
          81.5959595959596,
          82.39393939393939,
          83.1919191919192,
          83.98989898989899,
          84.78787878787878,
          85.58585858585859,
          86.38383838383838,
          87.18181818181819,
          87.97979797979798,
          88.77777777777777,
          89.57575757575758,
          90.37373737373737,
          91.17171717171718,
          91.96969696969697,
          92.76767676767676,
          93.56565656565657,
          94.36363636363636,
          95.16161616161617,
          95.95959595959596,
          96.75757575757575,
          97.55555555555556,
          98.35353535353535,
          99.15151515151516,
          99.94949494949495,
          100.74747474747474,
          101.54545454545455,
          102.34343434343435,
          103.14141414141415,
          103.93939393939394,
          104.73737373737373,
          105.53535353535354,
          106.33333333333334,
          107.13131313131314,
          107.92929292929293,
          108.72727272727272,
          109.52525252525253,
          110.32323232323233,
          111.12121212121212,
          111.91919191919192,
          112.71717171717171,
          113.51515151515152,
          114.31313131313132,
          115.11111111111111,
          115.9090909090909,
          116.7070707070707,
          117.5050505050505,
          118.30303030303031,
          119.1010101010101,
          119.8989898989899,
          120.69696969696969,
          121.4949494949495,
          122.2929292929293,
          123.0909090909091,
          123.88888888888889,
          124.68686868686869,
          125.48484848484848,
          126.28282828282829,
          127.08080808080808,
          127.87878787878788,
          128.67676767676767,
          129.47474747474746,
          130.27272727272728,
          131.07070707070707,
          131.86868686868686,
          132.66666666666669,
          133.46464646464648,
          134.26262626262627,
          135.06060606060606,
          135.85858585858585,
          136.65656565656565,
          137.45454545454544,
          138.25252525252526,
          139.05050505050505,
          139.84848484848484,
          140.64646464646466,
          141.44444444444446,
          142.24242424242425,
          143.04040404040404,
          143.83838383838383,
          144.63636363636363,
          145.43434343434342,
          146.23232323232324,
          147.03030303030303,
          147.82828282828285,
          148.62626262626264,
          149.42424242424244,
          150.22222222222223,
          151.02020202020202,
          151.8181818181818,
          152.6161616161616,
          153.4141414141414,
          154.21212121212122,
          155.010101010101,
          155.80808080808083,
          156.60606060606062,
          157.40404040404042,
          158.2020202020202,
          159
         ],
         "y": [
          373.23130467822136,
          373.4942896723506,
          373.7572746664799,
          374.02025966060916,
          374.2832446547384,
          374.54622964886767,
          374.8092146429969,
          375.0721996371262,
          375.33518463125546,
          375.5981696253847,
          375.86115461951397,
          376.12413961364325,
          376.3871246077725,
          376.65010960190176,
          376.91309459603104,
          377.17607959016027,
          377.43906458428955,
          377.70204957841884,
          377.96503457254806,
          378.22801956667735,
          378.4910045608066,
          378.75398955493586,
          379.01697454906514,
          379.27995954319437,
          379.54294453732365,
          379.80592953145293,
          380.06891452558216,
          380.33189951971144,
          380.5948845138407,
          380.85786950796995,
          381.12085450209923,
          381.38383949622846,
          381.64682449035774,
          381.909809484487,
          382.17279447861625,
          382.43577947274554,
          382.6987644668748,
          382.96174946100405,
          383.22473445513333,
          383.4877194492626,
          383.75070444339184,
          384.0136894375211,
          384.27667443165035,
          384.53965942577963,
          384.8026444199089,
          385.06562941403814,
          385.3286144081674,
          385.5915994022967,
          385.85458439642593,
          386.1175693905552,
          386.3805543846845,
          386.6435393788137,
          386.906524372943,
          387.1695093670723,
          387.4324943612015,
          387.6954793553308,
          387.9584643494601,
          388.2214493435893,
          388.4844343377186,
          388.7474193318478,
          389.0104043259771,
          389.2733893201064,
          389.5363743142356,
          389.7993593083649,
          390.0623443024942,
          390.3253292966234,
          390.5883142907527,
          390.851299284882,
          391.1142842790112,
          391.3772692731405,
          391.6402542672697,
          391.903239261399,
          392.1662242555283,
          392.4292092496575,
          392.6921942437868,
          392.95517923791607,
          393.2181642320453,
          393.4811492261746,
          393.74413422030386,
          394.0071192144331,
          394.2701042085624,
          394.5330892026916,
          394.7960741968209,
          395.05905919095017,
          395.3220441850794,
          395.5850291792087,
          395.84801417333796,
          396.1109991674672,
          396.37398416159647,
          396.63696915572575,
          396.899954149855,
          397.16293914398426,
          397.4259241381135,
          397.68890913224277,
          397.95189412637205,
          398.21487912050134,
          398.47786411463056,
          398.74084910875985,
          399.0038341028891,
          399.26681909701836
         ]
        }
       ],
       "layout": {
        "legend": {
         "tracegroupgap": 0
        },
        "margin": {
         "t": 60
        },
        "template": {
         "data": {
          "bar": [
           {
            "error_x": {
             "color": "#2a3f5f"
            },
            "error_y": {
             "color": "#2a3f5f"
            },
            "marker": {
             "line": {
              "color": "#E5ECF6",
              "width": 0.5
             },
             "pattern": {
              "fillmode": "overlay",
              "size": 10,
              "solidity": 0.2
             }
            },
            "type": "bar"
           }
          ],
          "barpolar": [
           {
            "marker": {
             "line": {
              "color": "#E5ECF6",
              "width": 0.5
             },
             "pattern": {
              "fillmode": "overlay",
              "size": 10,
              "solidity": 0.2
             }
            },
            "type": "barpolar"
           }
          ],
          "carpet": [
           {
            "aaxis": {
             "endlinecolor": "#2a3f5f",
             "gridcolor": "white",
             "linecolor": "white",
             "minorgridcolor": "white",
             "startlinecolor": "#2a3f5f"
            },
            "baxis": {
             "endlinecolor": "#2a3f5f",
             "gridcolor": "white",
             "linecolor": "white",
             "minorgridcolor": "white",
             "startlinecolor": "#2a3f5f"
            },
            "type": "carpet"
           }
          ],
          "choropleth": [
           {
            "colorbar": {
             "outlinewidth": 0,
             "ticks": ""
            },
            "type": "choropleth"
           }
          ],
          "contour": [
           {
            "colorbar": {
             "outlinewidth": 0,
             "ticks": ""
            },
            "colorscale": [
             [
              0,
              "#0d0887"
             ],
             [
              0.1111111111111111,
              "#46039f"
             ],
             [
              0.2222222222222222,
              "#7201a8"
             ],
             [
              0.3333333333333333,
              "#9c179e"
             ],
             [
              0.4444444444444444,
              "#bd3786"
             ],
             [
              0.5555555555555556,
              "#d8576b"
             ],
             [
              0.6666666666666666,
              "#ed7953"
             ],
             [
              0.7777777777777778,
              "#fb9f3a"
             ],
             [
              0.8888888888888888,
              "#fdca26"
             ],
             [
              1,
              "#f0f921"
             ]
            ],
            "type": "contour"
           }
          ],
          "contourcarpet": [
           {
            "colorbar": {
             "outlinewidth": 0,
             "ticks": ""
            },
            "type": "contourcarpet"
           }
          ],
          "heatmap": [
           {
            "colorbar": {
             "outlinewidth": 0,
             "ticks": ""
            },
            "colorscale": [
             [
              0,
              "#0d0887"
             ],
             [
              0.1111111111111111,
              "#46039f"
             ],
             [
              0.2222222222222222,
              "#7201a8"
             ],
             [
              0.3333333333333333,
              "#9c179e"
             ],
             [
              0.4444444444444444,
              "#bd3786"
             ],
             [
              0.5555555555555556,
              "#d8576b"
             ],
             [
              0.6666666666666666,
              "#ed7953"
             ],
             [
              0.7777777777777778,
              "#fb9f3a"
             ],
             [
              0.8888888888888888,
              "#fdca26"
             ],
             [
              1,
              "#f0f921"
             ]
            ],
            "type": "heatmap"
           }
          ],
          "heatmapgl": [
           {
            "colorbar": {
             "outlinewidth": 0,
             "ticks": ""
            },
            "colorscale": [
             [
              0,
              "#0d0887"
             ],
             [
              0.1111111111111111,
              "#46039f"
             ],
             [
              0.2222222222222222,
              "#7201a8"
             ],
             [
              0.3333333333333333,
              "#9c179e"
             ],
             [
              0.4444444444444444,
              "#bd3786"
             ],
             [
              0.5555555555555556,
              "#d8576b"
             ],
             [
              0.6666666666666666,
              "#ed7953"
             ],
             [
              0.7777777777777778,
              "#fb9f3a"
             ],
             [
              0.8888888888888888,
              "#fdca26"
             ],
             [
              1,
              "#f0f921"
             ]
            ],
            "type": "heatmapgl"
           }
          ],
          "histogram": [
           {
            "marker": {
             "pattern": {
              "fillmode": "overlay",
              "size": 10,
              "solidity": 0.2
             }
            },
            "type": "histogram"
           }
          ],
          "histogram2d": [
           {
            "colorbar": {
             "outlinewidth": 0,
             "ticks": ""
            },
            "colorscale": [
             [
              0,
              "#0d0887"
             ],
             [
              0.1111111111111111,
              "#46039f"
             ],
             [
              0.2222222222222222,
              "#7201a8"
             ],
             [
              0.3333333333333333,
              "#9c179e"
             ],
             [
              0.4444444444444444,
              "#bd3786"
             ],
             [
              0.5555555555555556,
              "#d8576b"
             ],
             [
              0.6666666666666666,
              "#ed7953"
             ],
             [
              0.7777777777777778,
              "#fb9f3a"
             ],
             [
              0.8888888888888888,
              "#fdca26"
             ],
             [
              1,
              "#f0f921"
             ]
            ],
            "type": "histogram2d"
           }
          ],
          "histogram2dcontour": [
           {
            "colorbar": {
             "outlinewidth": 0,
             "ticks": ""
            },
            "colorscale": [
             [
              0,
              "#0d0887"
             ],
             [
              0.1111111111111111,
              "#46039f"
             ],
             [
              0.2222222222222222,
              "#7201a8"
             ],
             [
              0.3333333333333333,
              "#9c179e"
             ],
             [
              0.4444444444444444,
              "#bd3786"
             ],
             [
              0.5555555555555556,
              "#d8576b"
             ],
             [
              0.6666666666666666,
              "#ed7953"
             ],
             [
              0.7777777777777778,
              "#fb9f3a"
             ],
             [
              0.8888888888888888,
              "#fdca26"
             ],
             [
              1,
              "#f0f921"
             ]
            ],
            "type": "histogram2dcontour"
           }
          ],
          "mesh3d": [
           {
            "colorbar": {
             "outlinewidth": 0,
             "ticks": ""
            },
            "type": "mesh3d"
           }
          ],
          "parcoords": [
           {
            "line": {
             "colorbar": {
              "outlinewidth": 0,
              "ticks": ""
             }
            },
            "type": "parcoords"
           }
          ],
          "pie": [
           {
            "automargin": true,
            "type": "pie"
           }
          ],
          "scatter": [
           {
            "fillpattern": {
             "fillmode": "overlay",
             "size": 10,
             "solidity": 0.2
            },
            "type": "scatter"
           }
          ],
          "scatter3d": [
           {
            "line": {
             "colorbar": {
              "outlinewidth": 0,
              "ticks": ""
             }
            },
            "marker": {
             "colorbar": {
              "outlinewidth": 0,
              "ticks": ""
             }
            },
            "type": "scatter3d"
           }
          ],
          "scattercarpet": [
           {
            "marker": {
             "colorbar": {
              "outlinewidth": 0,
              "ticks": ""
             }
            },
            "type": "scattercarpet"
           }
          ],
          "scattergeo": [
           {
            "marker": {
             "colorbar": {
              "outlinewidth": 0,
              "ticks": ""
             }
            },
            "type": "scattergeo"
           }
          ],
          "scattergl": [
           {
            "marker": {
             "colorbar": {
              "outlinewidth": 0,
              "ticks": ""
             }
            },
            "type": "scattergl"
           }
          ],
          "scattermapbox": [
           {
            "marker": {
             "colorbar": {
              "outlinewidth": 0,
              "ticks": ""
             }
            },
            "type": "scattermapbox"
           }
          ],
          "scatterpolar": [
           {
            "marker": {
             "colorbar": {
              "outlinewidth": 0,
              "ticks": ""
             }
            },
            "type": "scatterpolar"
           }
          ],
          "scatterpolargl": [
           {
            "marker": {
             "colorbar": {
              "outlinewidth": 0,
              "ticks": ""
             }
            },
            "type": "scatterpolargl"
           }
          ],
          "scatterternary": [
           {
            "marker": {
             "colorbar": {
              "outlinewidth": 0,
              "ticks": ""
             }
            },
            "type": "scatterternary"
           }
          ],
          "surface": [
           {
            "colorbar": {
             "outlinewidth": 0,
             "ticks": ""
            },
            "colorscale": [
             [
              0,
              "#0d0887"
             ],
             [
              0.1111111111111111,
              "#46039f"
             ],
             [
              0.2222222222222222,
              "#7201a8"
             ],
             [
              0.3333333333333333,
              "#9c179e"
             ],
             [
              0.4444444444444444,
              "#bd3786"
             ],
             [
              0.5555555555555556,
              "#d8576b"
             ],
             [
              0.6666666666666666,
              "#ed7953"
             ],
             [
              0.7777777777777778,
              "#fb9f3a"
             ],
             [
              0.8888888888888888,
              "#fdca26"
             ],
             [
              1,
              "#f0f921"
             ]
            ],
            "type": "surface"
           }
          ],
          "table": [
           {
            "cells": {
             "fill": {
              "color": "#EBF0F8"
             },
             "line": {
              "color": "white"
             }
            },
            "header": {
             "fill": {
              "color": "#C8D4E3"
             },
             "line": {
              "color": "white"
             }
            },
            "type": "table"
           }
          ]
         },
         "layout": {
          "annotationdefaults": {
           "arrowcolor": "#2a3f5f",
           "arrowhead": 0,
           "arrowwidth": 1
          },
          "autotypenumbers": "strict",
          "coloraxis": {
           "colorbar": {
            "outlinewidth": 0,
            "ticks": ""
           }
          },
          "colorscale": {
           "diverging": [
            [
             0,
             "#8e0152"
            ],
            [
             0.1,
             "#c51b7d"
            ],
            [
             0.2,
             "#de77ae"
            ],
            [
             0.3,
             "#f1b6da"
            ],
            [
             0.4,
             "#fde0ef"
            ],
            [
             0.5,
             "#f7f7f7"
            ],
            [
             0.6,
             "#e6f5d0"
            ],
            [
             0.7,
             "#b8e186"
            ],
            [
             0.8,
             "#7fbc41"
            ],
            [
             0.9,
             "#4d9221"
            ],
            [
             1,
             "#276419"
            ]
           ],
           "sequential": [
            [
             0,
             "#0d0887"
            ],
            [
             0.1111111111111111,
             "#46039f"
            ],
            [
             0.2222222222222222,
             "#7201a8"
            ],
            [
             0.3333333333333333,
             "#9c179e"
            ],
            [
             0.4444444444444444,
             "#bd3786"
            ],
            [
             0.5555555555555556,
             "#d8576b"
            ],
            [
             0.6666666666666666,
             "#ed7953"
            ],
            [
             0.7777777777777778,
             "#fb9f3a"
            ],
            [
             0.8888888888888888,
             "#fdca26"
            ],
            [
             1,
             "#f0f921"
            ]
           ],
           "sequentialminus": [
            [
             0,
             "#0d0887"
            ],
            [
             0.1111111111111111,
             "#46039f"
            ],
            [
             0.2222222222222222,
             "#7201a8"
            ],
            [
             0.3333333333333333,
             "#9c179e"
            ],
            [
             0.4444444444444444,
             "#bd3786"
            ],
            [
             0.5555555555555556,
             "#d8576b"
            ],
            [
             0.6666666666666666,
             "#ed7953"
            ],
            [
             0.7777777777777778,
             "#fb9f3a"
            ],
            [
             0.8888888888888888,
             "#fdca26"
            ],
            [
             1,
             "#f0f921"
            ]
           ]
          },
          "colorway": [
           "#636efa",
           "#EF553B",
           "#00cc96",
           "#ab63fa",
           "#FFA15A",
           "#19d3f3",
           "#FF6692",
           "#B6E880",
           "#FF97FF",
           "#FECB52"
          ],
          "font": {
           "color": "#2a3f5f"
          },
          "geo": {
           "bgcolor": "white",
           "lakecolor": "white",
           "landcolor": "#E5ECF6",
           "showlakes": true,
           "showland": true,
           "subunitcolor": "white"
          },
          "hoverlabel": {
           "align": "left"
          },
          "hovermode": "closest",
          "mapbox": {
           "style": "light"
          },
          "paper_bgcolor": "white",
          "plot_bgcolor": "#E5ECF6",
          "polar": {
           "angularaxis": {
            "gridcolor": "white",
            "linecolor": "white",
            "ticks": ""
           },
           "bgcolor": "#E5ECF6",
           "radialaxis": {
            "gridcolor": "white",
            "linecolor": "white",
            "ticks": ""
           }
          },
          "scene": {
           "xaxis": {
            "backgroundcolor": "#E5ECF6",
            "gridcolor": "white",
            "gridwidth": 2,
            "linecolor": "white",
            "showbackground": true,
            "ticks": "",
            "zerolinecolor": "white"
           },
           "yaxis": {
            "backgroundcolor": "#E5ECF6",
            "gridcolor": "white",
            "gridwidth": 2,
            "linecolor": "white",
            "showbackground": true,
            "ticks": "",
            "zerolinecolor": "white"
           },
           "zaxis": {
            "backgroundcolor": "#E5ECF6",
            "gridcolor": "white",
            "gridwidth": 2,
            "linecolor": "white",
            "showbackground": true,
            "ticks": "",
            "zerolinecolor": "white"
           }
          },
          "shapedefaults": {
           "line": {
            "color": "#2a3f5f"
           }
          },
          "ternary": {
           "aaxis": {
            "gridcolor": "white",
            "linecolor": "white",
            "ticks": ""
           },
           "baxis": {
            "gridcolor": "white",
            "linecolor": "white",
            "ticks": ""
           },
           "bgcolor": "#E5ECF6",
           "caxis": {
            "gridcolor": "white",
            "linecolor": "white",
            "ticks": ""
           }
          },
          "title": {
           "x": 0.05
          },
          "xaxis": {
           "automargin": true,
           "gridcolor": "white",
           "linecolor": "white",
           "ticks": "",
           "title": {
            "standoff": 15
           },
           "zerolinecolor": "white",
           "zerolinewidth": 2
          },
          "yaxis": {
           "automargin": true,
           "gridcolor": "white",
           "linecolor": "white",
           "ticks": "",
           "title": {
            "standoff": 15
           },
           "zerolinecolor": "white",
           "zerolinewidth": 2
          }
         }
        },
        "xaxis": {
         "anchor": "y",
         "domain": [
          0,
          1
         ],
         "title": {
          "text": "Average_Pulse"
         }
        },
        "yaxis": {
         "anchor": "x",
         "domain": [
          0,
          1
         ],
         "title": {
          "text": "Calorie_Burnage"
         }
        }
       }
      }
     },
     "metadata": {},
     "output_type": "display_data"
    }
   ],
   "source": [
    "%pip install seaborn plotly nbformat\n",
    "\n",
    "import numpy as np\n",
    "import plotly.express as px\n",
    "import plotly.graph_objects as go\n",
    "from sklearn.linear_model import LinearRegression\n",
    "\n",
    "df = full_health_data\n",
    "X = df.Average_Pulse.values.reshape(-1, 1)\n",
    "\n",
    "model = LinearRegression()\n",
    "model.fit(X, df.Calorie_Burnage)\n",
    "\n",
    "x_range = np.linspace(X.min(), X.max(), 100)\n",
    "y_range = model.predict(x_range.reshape(-1, 1))\n",
    "\n",
    "fig = px.scatter(df, x='Average_Pulse', y='Calorie_Burnage', opacity=0.65)\n",
    "fig.add_traces(go.Scatter(x=x_range, y=y_range, name='Regression Fit'))\n",
    "fig.show()"
   ]
  },
  {
   "cell_type": "markdown",
   "metadata": {},
   "source": [
    "#### Question:\n",
    "\n",
    "We have seen earlier how to apply a simple regression model for predicting Calorie_Burnage from Average_Pulse. There might be another candidate Duration in addition to Average_Pulse. You will need to repeat the above linear regression process to find relationsthip between Calorie_Burnage and Duration.\n",
    "\n",
    "Comment on the both regression lines: Calorie_Burnage - Average_Pulse and Calorie_Burnage - Duration. "
   ]
  },
  {
   "cell_type": "code",
   "execution_count": 15,
   "metadata": {},
   "outputs": [
    {
     "data": {
      "application/vnd.plotly.v1+json": {
       "config": {
        "plotlyServerURL": "https://plot.ly"
       },
       "data": [
        {
         "hovertemplate": "Average_Pulse=%{x}<br>Calorie_Burnage=%{y}<extra></extra>",
         "legendgroup": "",
         "marker": {
          "color": "#636efa",
          "opacity": 0.65,
          "symbol": "circle"
         },
         "mode": "markers",
         "name": "",
         "orientation": "v",
         "showlegend": false,
         "type": "scatter",
         "x": [
          110,
          117,
          103,
          109,
          117,
          102,
          110,
          104,
          109,
          98,
          103,
          100,
          106,
          104,
          98,
          98,
          100,
          90,
          103,
          97,
          108,
          100,
          130,
          105,
          102,
          100,
          92,
          103,
          100,
          102,
          92,
          101,
          93,
          107,
          114,
          100,
          100,
          104,
          98,
          100,
          111,
          111,
          99,
          109,
          111,
          108,
          111,
          107,
          123,
          106,
          118,
          136,
          121,
          118,
          115,
          153,
          123,
          108,
          110,
          109,
          118,
          110,
          90,
          105,
          107,
          106,
          108,
          97,
          100,
          97,
          114,
          98,
          105,
          110,
          100,
          100,
          159,
          149,
          103,
          100,
          100,
          151,
          102,
          100,
          129,
          83,
          101,
          107,
          90,
          80,
          150,
          151,
          95,
          152,
          109,
          93,
          95,
          90,
          90,
          90,
          92,
          93,
          90,
          90,
          90,
          137,
          102,
          107,
          124,
          108,
          108,
          116,
          97,
          105,
          103,
          112,
          100,
          119,
          107,
          111,
          98,
          97,
          109,
          99,
          114,
          104,
          107,
          103,
          106,
          103,
          136,
          117,
          115,
          113,
          141,
          108,
          97,
          100,
          122,
          136,
          106,
          107,
          112,
          103,
          110,
          106,
          109,
          109,
          150,
          105,
          97,
          100,
          114,
          80,
          85,
          90,
          95,
          100,
          105,
          110,
          115,
          120,
          125
         ],
         "xaxis": "x",
         "y": [
          409,
          479,
          340,
          282,
          406,
          300,
          374,
          253,
          195,
          269,
          329,
          250,
          345,
          379,
          275,
          215,
          300,
          180,
          323,
          243,
          364,
          282,
          300,
          246,
          334,
          250,
          241,
          353,
          280,
          380,
          243,
          299,
          223,
          361,
          415,
          300,
          300,
          266,
          286,
          329,
          400,
          397,
          273,
          387,
          300,
          298,
          397,
          380,
          643,
          263,
          486,
          238,
          450,
          413,
          305,
          226,
          321,
          1376,
          1034,
          853,
          341,
          131,
          800,
          873,
          816,
          110,
          1500,
          1115,
          700,
          953,
          304,
          563,
          251,
          300,
          500,
          1729,
          319,
          344,
          151,
          500,
          225,
          300,
          234,
          1000,
          242,
          50,
          600,
          1200,
          105,
          50,
          127,
          229,
          128,
          244,
          188,
          604,
          77,
          500,
          500,
          500,
          92,
          124,
          800,
          86,
          500,
          1860,
          325,
          275,
          124,
          367,
          351,
          443,
          277,
          353,
          332,
          193,
          100,
          336,
          344,
          368,
          271,
          275,
          382,
          466,
          384,
          342,
          357,
          335,
          327,
          339,
          189,
          317,
          318,
          308,
          222,
          390,
          288,
          250,
          335,
          470,
          270,
          400,
          361,
          185,
          409,
          343,
          353,
          374,
          275,
          328,
          270,
          270,
          382,
          240,
          250,
          260,
          270,
          280,
          290,
          300,
          310,
          320,
          330
         ],
         "yaxis": "y"
        },
        {
         "name": "Regression Fit",
         "type": "scatter",
         "x": [
          80,
          80.79797979797979,
          81.5959595959596,
          82.39393939393939,
          83.1919191919192,
          83.98989898989899,
          84.78787878787878,
          85.58585858585859,
          86.38383838383838,
          87.18181818181819,
          87.97979797979798,
          88.77777777777777,
          89.57575757575758,
          90.37373737373737,
          91.17171717171718,
          91.96969696969697,
          92.76767676767676,
          93.56565656565657,
          94.36363636363636,
          95.16161616161617,
          95.95959595959596,
          96.75757575757575,
          97.55555555555556,
          98.35353535353535,
          99.15151515151516,
          99.94949494949495,
          100.74747474747474,
          101.54545454545455,
          102.34343434343435,
          103.14141414141415,
          103.93939393939394,
          104.73737373737373,
          105.53535353535354,
          106.33333333333334,
          107.13131313131314,
          107.92929292929293,
          108.72727272727272,
          109.52525252525253,
          110.32323232323233,
          111.12121212121212,
          111.91919191919192,
          112.71717171717171,
          113.51515151515152,
          114.31313131313132,
          115.11111111111111,
          115.9090909090909,
          116.7070707070707,
          117.5050505050505,
          118.30303030303031,
          119.1010101010101,
          119.8989898989899,
          120.69696969696969,
          121.4949494949495,
          122.2929292929293,
          123.0909090909091,
          123.88888888888889,
          124.68686868686869,
          125.48484848484848,
          126.28282828282829,
          127.08080808080808,
          127.87878787878788,
          128.67676767676767,
          129.47474747474746,
          130.27272727272728,
          131.07070707070707,
          131.86868686868686,
          132.66666666666669,
          133.46464646464648,
          134.26262626262627,
          135.06060606060606,
          135.85858585858585,
          136.65656565656565,
          137.45454545454544,
          138.25252525252526,
          139.05050505050505,
          139.84848484848484,
          140.64646464646466,
          141.44444444444446,
          142.24242424242425,
          143.04040404040404,
          143.83838383838383,
          144.63636363636363,
          145.43434343434342,
          146.23232323232324,
          147.03030303030303,
          147.82828282828285,
          148.62626262626264,
          149.42424242424244,
          150.22222222222223,
          151.02020202020202,
          151.8181818181818,
          152.6161616161616,
          153.4141414141414,
          154.21212121212122,
          155.010101010101,
          155.80808080808083,
          156.60606060606062,
          157.40404040404042,
          158.2020202020202,
          159
         ],
         "xaxis": "x",
         "y": [
          373.23130467822136,
          373.4942896723506,
          373.7572746664799,
          374.02025966060916,
          374.2832446547384,
          374.54622964886767,
          374.8092146429969,
          375.0721996371262,
          375.33518463125546,
          375.5981696253847,
          375.86115461951397,
          376.12413961364325,
          376.3871246077725,
          376.65010960190176,
          376.91309459603104,
          377.17607959016027,
          377.43906458428955,
          377.70204957841884,
          377.96503457254806,
          378.22801956667735,
          378.4910045608066,
          378.75398955493586,
          379.01697454906514,
          379.27995954319437,
          379.54294453732365,
          379.80592953145293,
          380.06891452558216,
          380.33189951971144,
          380.5948845138407,
          380.85786950796995,
          381.12085450209923,
          381.38383949622846,
          381.64682449035774,
          381.909809484487,
          382.17279447861625,
          382.43577947274554,
          382.6987644668748,
          382.96174946100405,
          383.22473445513333,
          383.4877194492626,
          383.75070444339184,
          384.0136894375211,
          384.27667443165035,
          384.53965942577963,
          384.8026444199089,
          385.06562941403814,
          385.3286144081674,
          385.5915994022967,
          385.85458439642593,
          386.1175693905552,
          386.3805543846845,
          386.6435393788137,
          386.906524372943,
          387.1695093670723,
          387.4324943612015,
          387.6954793553308,
          387.9584643494601,
          388.2214493435893,
          388.4844343377186,
          388.7474193318478,
          389.0104043259771,
          389.2733893201064,
          389.5363743142356,
          389.7993593083649,
          390.0623443024942,
          390.3253292966234,
          390.5883142907527,
          390.851299284882,
          391.1142842790112,
          391.3772692731405,
          391.6402542672697,
          391.903239261399,
          392.1662242555283,
          392.4292092496575,
          392.6921942437868,
          392.95517923791607,
          393.2181642320453,
          393.4811492261746,
          393.74413422030386,
          394.0071192144331,
          394.2701042085624,
          394.5330892026916,
          394.7960741968209,
          395.05905919095017,
          395.3220441850794,
          395.5850291792087,
          395.84801417333796,
          396.1109991674672,
          396.37398416159647,
          396.63696915572575,
          396.899954149855,
          397.16293914398426,
          397.4259241381135,
          397.68890913224277,
          397.95189412637205,
          398.21487912050134,
          398.47786411463056,
          398.74084910875985,
          399.0038341028891,
          399.26681909701836
         ],
         "yaxis": "y"
        },
        {
         "hovertemplate": "Duration=%{x}<br>Calorie_Burnage=%{y}<extra></extra>",
         "legendgroup": "",
         "marker": {
          "color": "#636efa",
          "opacity": 0.65,
          "symbol": "circle"
         },
         "mode": "markers",
         "name": "",
         "orientation": "v",
         "showlegend": false,
         "type": "scatter",
         "x": [
          60,
          60,
          60,
          45,
          45,
          60,
          60,
          45,
          30,
          60,
          60,
          60,
          60,
          60,
          60,
          60,
          60,
          45,
          60,
          45,
          60,
          45,
          60,
          45,
          60,
          60,
          60,
          60,
          60,
          60,
          60,
          60,
          60,
          60,
          60,
          60,
          60,
          45,
          60,
          60,
          60,
          60,
          60,
          60,
          45,
          45,
          60,
          60,
          80,
          60,
          60,
          30,
          60,
          60,
          45,
          20,
          45,
          210,
          160,
          160,
          45,
          20,
          180,
          150,
          150,
          20,
          300,
          150,
          90,
          150,
          45,
          90,
          45,
          45,
          120,
          270,
          30,
          45,
          30,
          120,
          45,
          30,
          45,
          120,
          45,
          20,
          180,
          45,
          30,
          15,
          20,
          20,
          30,
          25,
          30,
          90,
          20,
          90,
          90,
          90,
          30,
          30,
          180,
          30,
          90,
          210,
          60,
          45,
          15,
          60,
          60,
          60,
          60,
          60,
          60,
          30,
          45,
          60,
          60,
          60,
          60,
          60,
          60,
          90,
          60,
          60,
          60,
          60,
          60,
          60,
          20,
          45,
          45,
          45,
          20,
          60,
          60,
          45,
          45,
          60,
          45,
          60,
          60,
          30,
          60,
          60,
          60,
          60,
          30,
          60,
          60,
          60,
          60,
          30,
          30,
          45,
          45,
          45,
          60,
          60,
          60,
          75,
          75
         ],
         "xaxis": "x2",
         "y": [
          409,
          479,
          340,
          282,
          406,
          300,
          374,
          253,
          195,
          269,
          329,
          250,
          345,
          379,
          275,
          215,
          300,
          180,
          323,
          243,
          364,
          282,
          300,
          246,
          334,
          250,
          241,
          353,
          280,
          380,
          243,
          299,
          223,
          361,
          415,
          300,
          300,
          266,
          286,
          329,
          400,
          397,
          273,
          387,
          300,
          298,
          397,
          380,
          643,
          263,
          486,
          238,
          450,
          413,
          305,
          226,
          321,
          1376,
          1034,
          853,
          341,
          131,
          800,
          873,
          816,
          110,
          1500,
          1115,
          700,
          953,
          304,
          563,
          251,
          300,
          500,
          1729,
          319,
          344,
          151,
          500,
          225,
          300,
          234,
          1000,
          242,
          50,
          600,
          1200,
          105,
          50,
          127,
          229,
          128,
          244,
          188,
          604,
          77,
          500,
          500,
          500,
          92,
          124,
          800,
          86,
          500,
          1860,
          325,
          275,
          124,
          367,
          351,
          443,
          277,
          353,
          332,
          193,
          100,
          336,
          344,
          368,
          271,
          275,
          382,
          466,
          384,
          342,
          357,
          335,
          327,
          339,
          189,
          317,
          318,
          308,
          222,
          390,
          288,
          250,
          335,
          470,
          270,
          400,
          361,
          185,
          409,
          343,
          353,
          374,
          275,
          328,
          270,
          270,
          382,
          240,
          250,
          260,
          270,
          280,
          290,
          300,
          310,
          320,
          330
         ],
         "yaxis": "y2"
        },
        {
         "name": "Regression Fit",
         "type": "scatter",
         "x": [
          15,
          17.87878787878788,
          20.757575757575758,
          23.636363636363637,
          26.515151515151516,
          29.393939393939394,
          32.27272727272727,
          35.151515151515156,
          38.03030303030303,
          40.90909090909091,
          43.78787878787879,
          46.66666666666667,
          49.54545454545455,
          52.42424242424242,
          55.303030303030305,
          58.18181818181819,
          61.06060606060606,
          63.93939393939394,
          66.81818181818181,
          69.6969696969697,
          72.57575757575758,
          75.45454545454545,
          78.33333333333334,
          81.21212121212122,
          84.0909090909091,
          86.96969696969697,
          89.84848484848484,
          92.72727272727273,
          95.60606060606061,
          98.48484848484848,
          101.36363636363637,
          104.24242424242425,
          107.12121212121212,
          110,
          112.87878787878788,
          115.75757575757576,
          118.63636363636364,
          121.51515151515152,
          124.3939393939394,
          127.27272727272728,
          130.15151515151516,
          133.03030303030303,
          135.9090909090909,
          138.7878787878788,
          141.66666666666669,
          144.54545454545456,
          147.42424242424244,
          150.3030303030303,
          153.1818181818182,
          156.06060606060606,
          158.93939393939394,
          161.8181818181818,
          164.6969696969697,
          167.5757575757576,
          170.45454545454547,
          173.33333333333334,
          176.21212121212122,
          179.0909090909091,
          181.96969696969697,
          184.84848484848484,
          187.72727272727275,
          190.60606060606062,
          193.4848484848485,
          196.36363636363637,
          199.24242424242425,
          202.12121212121212,
          205,
          207.87878787878788,
          210.75757575757575,
          213.63636363636365,
          216.51515151515153,
          219.3939393939394,
          222.27272727272728,
          225.15151515151516,
          228.03030303030303,
          230.9090909090909,
          233.7878787878788,
          236.66666666666669,
          239.54545454545456,
          242.42424242424244,
          245.3030303030303,
          248.1818181818182,
          251.06060606060606,
          253.93939393939394,
          256.8181818181818,
          259.69696969696975,
          262.5757575757576,
          265.4545454545455,
          268.33333333333337,
          271.21212121212125,
          274.0909090909091,
          276.969696969697,
          279.8484848484849,
          282.72727272727275,
          285.6060606060606,
          288.4848484848485,
          291.3636363636364,
          294.24242424242425,
          297.1212121212121,
          300
         ],
         "xaxis": "x2",
         "y": [
          103.32913766523819,
          119.63510507251314,
          135.9410724797881,
          152.247039887063,
          168.55300729433796,
          184.8589747016129,
          201.16494210888786,
          217.4709095161628,
          233.77687692343773,
          250.08284433071265,
          266.3888117379876,
          282.6947791452626,
          299.0007465525375,
          315.30671395981244,
          331.61268136708736,
          347.91864877436234,
          364.22461618163726,
          380.5305835889122,
          396.8365509961871,
          413.14251840346213,
          429.44848581073705,
          445.754453218012,
          462.06042062528695,
          478.3663880325619,
          494.6723554398368,
          510.9783228471117,
          527.2842902543866,
          543.5902576616617,
          559.8962250689366,
          576.2021924762115,
          592.5081598834865,
          608.8141272907615,
          625.1200946980364,
          641.4260621053113,
          657.7320295125862,
          674.0379969198611,
          690.3439643271361,
          706.649931734411,
          722.955899141686,
          739.2618665489609,
          755.5678339562359,
          771.8738013635108,
          788.1797687707857,
          804.4857361780608,
          820.7917035853358,
          837.0976709926107,
          853.4036383998856,
          869.7096058071605,
          886.0155732144354,
          902.3215406217104,
          918.6275080289853,
          934.9334754362602,
          951.2394428435351,
          967.5454102508102,
          983.8513776580851,
          1000.15734506536,
          1016.4633124726349,
          1032.7692798799098,
          1049.075247287185,
          1065.3812146944597,
          1081.6871821017348,
          1097.9931495090095,
          1114.2991169162847,
          1130.6050843235594,
          1146.9110517308345,
          1163.2170191381092,
          1179.5229865453844,
          1195.828953952659,
          1212.1349213599342,
          1228.4408887672093,
          1244.746856174484,
          1261.0528235817592,
          1277.3587909890339,
          1293.664758396309,
          1309.9707258035837,
          1326.2766932108589,
          1342.582660618134,
          1358.8886280254087,
          1375.1945954326839,
          1391.5005628399585,
          1407.8065302472337,
          1424.1124976545084,
          1440.4184650617835,
          1456.7244324690582,
          1473.0303998763334,
          1489.3363672836085,
          1505.6423346908832,
          1521.9483020981584,
          1538.254269505433,
          1554.5602369127082,
          1570.866204319983,
          1587.172171727258,
          1603.4781391345327,
          1619.784106541808,
          1636.0900739490826,
          1652.3960413563577,
          1668.7020087636324,
          1685.0079761709076,
          1701.3139435781823,
          1717.6199109854574
         ],
         "yaxis": "y2"
        }
       ],
       "layout": {
        "annotations": [
         {
          "font": {
           "size": 16
          },
          "showarrow": false,
          "text": "Calorie_Burnage vs Average_Pulse",
          "x": 0.225,
          "xanchor": "center",
          "xref": "paper",
          "y": 1,
          "yanchor": "bottom",
          "yref": "paper"
         },
         {
          "font": {
           "size": 16
          },
          "showarrow": false,
          "text": "Calorie_Burnage vs Duration",
          "x": 0.775,
          "xanchor": "center",
          "xref": "paper",
          "y": 1,
          "yanchor": "bottom",
          "yref": "paper"
         }
        ],
        "height": 500,
        "template": {
         "data": {
          "bar": [
           {
            "error_x": {
             "color": "#2a3f5f"
            },
            "error_y": {
             "color": "#2a3f5f"
            },
            "marker": {
             "line": {
              "color": "#E5ECF6",
              "width": 0.5
             },
             "pattern": {
              "fillmode": "overlay",
              "size": 10,
              "solidity": 0.2
             }
            },
            "type": "bar"
           }
          ],
          "barpolar": [
           {
            "marker": {
             "line": {
              "color": "#E5ECF6",
              "width": 0.5
             },
             "pattern": {
              "fillmode": "overlay",
              "size": 10,
              "solidity": 0.2
             }
            },
            "type": "barpolar"
           }
          ],
          "carpet": [
           {
            "aaxis": {
             "endlinecolor": "#2a3f5f",
             "gridcolor": "white",
             "linecolor": "white",
             "minorgridcolor": "white",
             "startlinecolor": "#2a3f5f"
            },
            "baxis": {
             "endlinecolor": "#2a3f5f",
             "gridcolor": "white",
             "linecolor": "white",
             "minorgridcolor": "white",
             "startlinecolor": "#2a3f5f"
            },
            "type": "carpet"
           }
          ],
          "choropleth": [
           {
            "colorbar": {
             "outlinewidth": 0,
             "ticks": ""
            },
            "type": "choropleth"
           }
          ],
          "contour": [
           {
            "colorbar": {
             "outlinewidth": 0,
             "ticks": ""
            },
            "colorscale": [
             [
              0,
              "#0d0887"
             ],
             [
              0.1111111111111111,
              "#46039f"
             ],
             [
              0.2222222222222222,
              "#7201a8"
             ],
             [
              0.3333333333333333,
              "#9c179e"
             ],
             [
              0.4444444444444444,
              "#bd3786"
             ],
             [
              0.5555555555555556,
              "#d8576b"
             ],
             [
              0.6666666666666666,
              "#ed7953"
             ],
             [
              0.7777777777777778,
              "#fb9f3a"
             ],
             [
              0.8888888888888888,
              "#fdca26"
             ],
             [
              1,
              "#f0f921"
             ]
            ],
            "type": "contour"
           }
          ],
          "contourcarpet": [
           {
            "colorbar": {
             "outlinewidth": 0,
             "ticks": ""
            },
            "type": "contourcarpet"
           }
          ],
          "heatmap": [
           {
            "colorbar": {
             "outlinewidth": 0,
             "ticks": ""
            },
            "colorscale": [
             [
              0,
              "#0d0887"
             ],
             [
              0.1111111111111111,
              "#46039f"
             ],
             [
              0.2222222222222222,
              "#7201a8"
             ],
             [
              0.3333333333333333,
              "#9c179e"
             ],
             [
              0.4444444444444444,
              "#bd3786"
             ],
             [
              0.5555555555555556,
              "#d8576b"
             ],
             [
              0.6666666666666666,
              "#ed7953"
             ],
             [
              0.7777777777777778,
              "#fb9f3a"
             ],
             [
              0.8888888888888888,
              "#fdca26"
             ],
             [
              1,
              "#f0f921"
             ]
            ],
            "type": "heatmap"
           }
          ],
          "heatmapgl": [
           {
            "colorbar": {
             "outlinewidth": 0,
             "ticks": ""
            },
            "colorscale": [
             [
              0,
              "#0d0887"
             ],
             [
              0.1111111111111111,
              "#46039f"
             ],
             [
              0.2222222222222222,
              "#7201a8"
             ],
             [
              0.3333333333333333,
              "#9c179e"
             ],
             [
              0.4444444444444444,
              "#bd3786"
             ],
             [
              0.5555555555555556,
              "#d8576b"
             ],
             [
              0.6666666666666666,
              "#ed7953"
             ],
             [
              0.7777777777777778,
              "#fb9f3a"
             ],
             [
              0.8888888888888888,
              "#fdca26"
             ],
             [
              1,
              "#f0f921"
             ]
            ],
            "type": "heatmapgl"
           }
          ],
          "histogram": [
           {
            "marker": {
             "pattern": {
              "fillmode": "overlay",
              "size": 10,
              "solidity": 0.2
             }
            },
            "type": "histogram"
           }
          ],
          "histogram2d": [
           {
            "colorbar": {
             "outlinewidth": 0,
             "ticks": ""
            },
            "colorscale": [
             [
              0,
              "#0d0887"
             ],
             [
              0.1111111111111111,
              "#46039f"
             ],
             [
              0.2222222222222222,
              "#7201a8"
             ],
             [
              0.3333333333333333,
              "#9c179e"
             ],
             [
              0.4444444444444444,
              "#bd3786"
             ],
             [
              0.5555555555555556,
              "#d8576b"
             ],
             [
              0.6666666666666666,
              "#ed7953"
             ],
             [
              0.7777777777777778,
              "#fb9f3a"
             ],
             [
              0.8888888888888888,
              "#fdca26"
             ],
             [
              1,
              "#f0f921"
             ]
            ],
            "type": "histogram2d"
           }
          ],
          "histogram2dcontour": [
           {
            "colorbar": {
             "outlinewidth": 0,
             "ticks": ""
            },
            "colorscale": [
             [
              0,
              "#0d0887"
             ],
             [
              0.1111111111111111,
              "#46039f"
             ],
             [
              0.2222222222222222,
              "#7201a8"
             ],
             [
              0.3333333333333333,
              "#9c179e"
             ],
             [
              0.4444444444444444,
              "#bd3786"
             ],
             [
              0.5555555555555556,
              "#d8576b"
             ],
             [
              0.6666666666666666,
              "#ed7953"
             ],
             [
              0.7777777777777778,
              "#fb9f3a"
             ],
             [
              0.8888888888888888,
              "#fdca26"
             ],
             [
              1,
              "#f0f921"
             ]
            ],
            "type": "histogram2dcontour"
           }
          ],
          "mesh3d": [
           {
            "colorbar": {
             "outlinewidth": 0,
             "ticks": ""
            },
            "type": "mesh3d"
           }
          ],
          "parcoords": [
           {
            "line": {
             "colorbar": {
              "outlinewidth": 0,
              "ticks": ""
             }
            },
            "type": "parcoords"
           }
          ],
          "pie": [
           {
            "automargin": true,
            "type": "pie"
           }
          ],
          "scatter": [
           {
            "fillpattern": {
             "fillmode": "overlay",
             "size": 10,
             "solidity": 0.2
            },
            "type": "scatter"
           }
          ],
          "scatter3d": [
           {
            "line": {
             "colorbar": {
              "outlinewidth": 0,
              "ticks": ""
             }
            },
            "marker": {
             "colorbar": {
              "outlinewidth": 0,
              "ticks": ""
             }
            },
            "type": "scatter3d"
           }
          ],
          "scattercarpet": [
           {
            "marker": {
             "colorbar": {
              "outlinewidth": 0,
              "ticks": ""
             }
            },
            "type": "scattercarpet"
           }
          ],
          "scattergeo": [
           {
            "marker": {
             "colorbar": {
              "outlinewidth": 0,
              "ticks": ""
             }
            },
            "type": "scattergeo"
           }
          ],
          "scattergl": [
           {
            "marker": {
             "colorbar": {
              "outlinewidth": 0,
              "ticks": ""
             }
            },
            "type": "scattergl"
           }
          ],
          "scattermapbox": [
           {
            "marker": {
             "colorbar": {
              "outlinewidth": 0,
              "ticks": ""
             }
            },
            "type": "scattermapbox"
           }
          ],
          "scatterpolar": [
           {
            "marker": {
             "colorbar": {
              "outlinewidth": 0,
              "ticks": ""
             }
            },
            "type": "scatterpolar"
           }
          ],
          "scatterpolargl": [
           {
            "marker": {
             "colorbar": {
              "outlinewidth": 0,
              "ticks": ""
             }
            },
            "type": "scatterpolargl"
           }
          ],
          "scatterternary": [
           {
            "marker": {
             "colorbar": {
              "outlinewidth": 0,
              "ticks": ""
             }
            },
            "type": "scatterternary"
           }
          ],
          "surface": [
           {
            "colorbar": {
             "outlinewidth": 0,
             "ticks": ""
            },
            "colorscale": [
             [
              0,
              "#0d0887"
             ],
             [
              0.1111111111111111,
              "#46039f"
             ],
             [
              0.2222222222222222,
              "#7201a8"
             ],
             [
              0.3333333333333333,
              "#9c179e"
             ],
             [
              0.4444444444444444,
              "#bd3786"
             ],
             [
              0.5555555555555556,
              "#d8576b"
             ],
             [
              0.6666666666666666,
              "#ed7953"
             ],
             [
              0.7777777777777778,
              "#fb9f3a"
             ],
             [
              0.8888888888888888,
              "#fdca26"
             ],
             [
              1,
              "#f0f921"
             ]
            ],
            "type": "surface"
           }
          ],
          "table": [
           {
            "cells": {
             "fill": {
              "color": "#EBF0F8"
             },
             "line": {
              "color": "white"
             }
            },
            "header": {
             "fill": {
              "color": "#C8D4E3"
             },
             "line": {
              "color": "white"
             }
            },
            "type": "table"
           }
          ]
         },
         "layout": {
          "annotationdefaults": {
           "arrowcolor": "#2a3f5f",
           "arrowhead": 0,
           "arrowwidth": 1
          },
          "autotypenumbers": "strict",
          "coloraxis": {
           "colorbar": {
            "outlinewidth": 0,
            "ticks": ""
           }
          },
          "colorscale": {
           "diverging": [
            [
             0,
             "#8e0152"
            ],
            [
             0.1,
             "#c51b7d"
            ],
            [
             0.2,
             "#de77ae"
            ],
            [
             0.3,
             "#f1b6da"
            ],
            [
             0.4,
             "#fde0ef"
            ],
            [
             0.5,
             "#f7f7f7"
            ],
            [
             0.6,
             "#e6f5d0"
            ],
            [
             0.7,
             "#b8e186"
            ],
            [
             0.8,
             "#7fbc41"
            ],
            [
             0.9,
             "#4d9221"
            ],
            [
             1,
             "#276419"
            ]
           ],
           "sequential": [
            [
             0,
             "#0d0887"
            ],
            [
             0.1111111111111111,
             "#46039f"
            ],
            [
             0.2222222222222222,
             "#7201a8"
            ],
            [
             0.3333333333333333,
             "#9c179e"
            ],
            [
             0.4444444444444444,
             "#bd3786"
            ],
            [
             0.5555555555555556,
             "#d8576b"
            ],
            [
             0.6666666666666666,
             "#ed7953"
            ],
            [
             0.7777777777777778,
             "#fb9f3a"
            ],
            [
             0.8888888888888888,
             "#fdca26"
            ],
            [
             1,
             "#f0f921"
            ]
           ],
           "sequentialminus": [
            [
             0,
             "#0d0887"
            ],
            [
             0.1111111111111111,
             "#46039f"
            ],
            [
             0.2222222222222222,
             "#7201a8"
            ],
            [
             0.3333333333333333,
             "#9c179e"
            ],
            [
             0.4444444444444444,
             "#bd3786"
            ],
            [
             0.5555555555555556,
             "#d8576b"
            ],
            [
             0.6666666666666666,
             "#ed7953"
            ],
            [
             0.7777777777777778,
             "#fb9f3a"
            ],
            [
             0.8888888888888888,
             "#fdca26"
            ],
            [
             1,
             "#f0f921"
            ]
           ]
          },
          "colorway": [
           "#636efa",
           "#EF553B",
           "#00cc96",
           "#ab63fa",
           "#FFA15A",
           "#19d3f3",
           "#FF6692",
           "#B6E880",
           "#FF97FF",
           "#FECB52"
          ],
          "font": {
           "color": "#2a3f5f"
          },
          "geo": {
           "bgcolor": "white",
           "lakecolor": "white",
           "landcolor": "#E5ECF6",
           "showlakes": true,
           "showland": true,
           "subunitcolor": "white"
          },
          "hoverlabel": {
           "align": "left"
          },
          "hovermode": "closest",
          "mapbox": {
           "style": "light"
          },
          "paper_bgcolor": "white",
          "plot_bgcolor": "#E5ECF6",
          "polar": {
           "angularaxis": {
            "gridcolor": "white",
            "linecolor": "white",
            "ticks": ""
           },
           "bgcolor": "#E5ECF6",
           "radialaxis": {
            "gridcolor": "white",
            "linecolor": "white",
            "ticks": ""
           }
          },
          "scene": {
           "xaxis": {
            "backgroundcolor": "#E5ECF6",
            "gridcolor": "white",
            "gridwidth": 2,
            "linecolor": "white",
            "showbackground": true,
            "ticks": "",
            "zerolinecolor": "white"
           },
           "yaxis": {
            "backgroundcolor": "#E5ECF6",
            "gridcolor": "white",
            "gridwidth": 2,
            "linecolor": "white",
            "showbackground": true,
            "ticks": "",
            "zerolinecolor": "white"
           },
           "zaxis": {
            "backgroundcolor": "#E5ECF6",
            "gridcolor": "white",
            "gridwidth": 2,
            "linecolor": "white",
            "showbackground": true,
            "ticks": "",
            "zerolinecolor": "white"
           }
          },
          "shapedefaults": {
           "line": {
            "color": "#2a3f5f"
           }
          },
          "ternary": {
           "aaxis": {
            "gridcolor": "white",
            "linecolor": "white",
            "ticks": ""
           },
           "baxis": {
            "gridcolor": "white",
            "linecolor": "white",
            "ticks": ""
           },
           "bgcolor": "#E5ECF6",
           "caxis": {
            "gridcolor": "white",
            "linecolor": "white",
            "ticks": ""
           }
          },
          "title": {
           "x": 0.05
          },
          "xaxis": {
           "automargin": true,
           "gridcolor": "white",
           "linecolor": "white",
           "ticks": "",
           "title": {
            "standoff": 15
           },
           "zerolinecolor": "white",
           "zerolinewidth": 2
          },
          "yaxis": {
           "automargin": true,
           "gridcolor": "white",
           "linecolor": "white",
           "ticks": "",
           "title": {
            "standoff": 15
           },
           "zerolinecolor": "white",
           "zerolinewidth": 2
          }
         }
        },
        "title": {
         "text": "Comparison of Regression Models"
        },
        "width": 1000,
        "xaxis": {
         "anchor": "y",
         "domain": [
          0,
          0.45
         ]
        },
        "xaxis2": {
         "anchor": "y2",
         "domain": [
          0.55,
          1
         ]
        },
        "yaxis": {
         "anchor": "x",
         "domain": [
          0,
          1
         ]
        },
        "yaxis2": {
         "anchor": "x2",
         "domain": [
          0,
          1
         ]
        }
       }
      }
     },
     "metadata": {},
     "output_type": "display_data"
    },
    {
     "name": "stdout",
     "output_type": "stream",
     "text": [
      "Regression coefficient for Average_Pulse: 0.3296\n",
      "R-squared for Average_Pulse model: 0.0003\n",
      "Regression coefficient for Duration: 5.6642\n",
      "R-squared for Duration model: 0.7886\n"
     ]
    }
   ],
   "source": [
    "import numpy as np\n",
    "import plotly.express as px\n",
    "import plotly.graph_objects as go\n",
    "from plotly.subplots import make_subplots\n",
    "from sklearn.linear_model import LinearRegression\n",
    "\n",
    "df = full_health_data\n",
    "\n",
    "# Function to create regression plot\n",
    "def create_regression_plot(x_col, y_col):\n",
    "    X = df[x_col].values.reshape(-1, 1)\n",
    "    model = LinearRegression()\n",
    "    model.fit(X, df[y_col])\n",
    "    x_range = np.linspace(X.min(), X.max(), 100)\n",
    "    y_range = model.predict(x_range.reshape(-1, 1))\n",
    "    \n",
    "    fig = px.scatter(df, x=x_col, y=y_col, opacity=0.65)\n",
    "    fig.add_traces(go.Scatter(x=x_range, y=y_range, name='Regression Fit'))\n",
    "    \n",
    "    return fig, model.coef_[0], model.score(X, df[y_col])\n",
    "\n",
    "# Create subplots\n",
    "fig = make_subplots(rows=1, cols=2, subplot_titles=(\"Calorie_Burnage vs Average_Pulse\", \"Calorie_Burnage vs Duration\"))\n",
    "\n",
    "# Average_Pulse vs Calorie_Burnage\n",
    "fig_pulse, coef_pulse, r2_pulse = create_regression_plot('Average_Pulse', 'Calorie_Burnage')\n",
    "fig.add_traces(fig_pulse.data, rows=1, cols=1)\n",
    "\n",
    "# Duration vs Calorie_Burnage\n",
    "fig_duration, coef_duration, r2_duration = create_regression_plot('Duration', 'Calorie_Burnage')\n",
    "fig.add_traces(fig_duration.data, rows=1, cols=2)\n",
    "\n",
    "# Update layout\n",
    "fig.update_layout(height=500, width=1000, title_text=\"Comparison of Regression Models\")\n",
    "fig.show()\n",
    "\n",
    "print(f\"Regression coefficient for Average_Pulse: {coef_pulse:.4f}\")\n",
    "print(f\"R-squared for Average_Pulse model: {r2_pulse:.4f}\")\n",
    "print(f\"Regression coefficient for Duration: {coef_duration:.4f}\")\n",
    "print(f\"R-squared for Duration model: {r2_duration:.4f}\")"
   ]
  }
 ],
 "metadata": {
  "kernelspec": {
   "display_name": ".venv",
   "language": "python",
   "name": "python3"
  },
  "language_info": {
   "codemirror_mode": {
    "name": "ipython",
    "version": 3
   },
   "file_extension": ".py",
   "mimetype": "text/x-python",
   "name": "python",
   "nbconvert_exporter": "python",
   "pygments_lexer": "ipython3",
   "version": "3.11.3"
  }
 },
 "nbformat": 4,
 "nbformat_minor": 2
}
