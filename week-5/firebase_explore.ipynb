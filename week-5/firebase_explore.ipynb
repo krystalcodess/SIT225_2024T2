{
 "cells": [
  {
   "cell_type": "code",
   "execution_count": 1,
   "metadata": {},
   "outputs": [
    {
     "name": "stdout",
     "output_type": "stream",
     "text": [
      "223212228 Krystal_Nguyen\n"
     ]
    }
   ],
   "source": [
    "# Fill in student ID and name\n",
    "# \n",
    "student_id = \"223212228\"\n",
    "student_first_last_name = \"Krystal_Nguyen\"\n",
    "print(student_id, student_first_last_name)"
   ]
  },
  {
   "cell_type": "code",
   "execution_count": 2,
   "metadata": {},
   "outputs": [
    {
     "name": "stdout",
     "output_type": "stream",
     "text": [
      "Requirement already satisfied: firebase_admin in /Users/d.o.npat/anaconda3/lib/python3.10/site-packages (6.5.0)\n",
      "Requirement already satisfied: pandas in /Users/d.o.npat/anaconda3/lib/python3.10/site-packages (2.2.2)\n",
      "Requirement already satisfied: google-api-python-client>=1.7.8 in /Users/d.o.npat/anaconda3/lib/python3.10/site-packages (from firebase_admin) (2.86.0)\n",
      "Requirement already satisfied: google-cloud-firestore>=2.9.1 in /Users/d.o.npat/anaconda3/lib/python3.10/site-packages (from firebase_admin) (2.17.0)\n",
      "Requirement already satisfied: google-cloud-storage>=1.37.1 in /Users/d.o.npat/anaconda3/lib/python3.10/site-packages (from firebase_admin) (2.14.0)\n",
      "Requirement already satisfied: pyjwt[crypto]>=2.5.0 in /Users/d.o.npat/anaconda3/lib/python3.10/site-packages (from firebase_admin) (2.8.0)\n",
      "Requirement already satisfied: cachecontrol>=0.12.6 in /Users/d.o.npat/anaconda3/lib/python3.10/site-packages (from firebase_admin) (0.14.0)\n",
      "Requirement already satisfied: google-api-core[grpc]<3.0.0dev,>=1.22.1 in /Users/d.o.npat/anaconda3/lib/python3.10/site-packages (from firebase_admin) (2.11.0)\n",
      "Requirement already satisfied: tzdata>=2022.7 in /Users/d.o.npat/anaconda3/lib/python3.10/site-packages (from pandas) (2023.3)\n",
      "Requirement already satisfied: pytz>=2020.1 in /Users/d.o.npat/anaconda3/lib/python3.10/site-packages (from pandas) (2024.1)\n",
      "Requirement already satisfied: python-dateutil>=2.8.2 in /Users/d.o.npat/anaconda3/lib/python3.10/site-packages (from pandas) (2.9.0.post0)\n",
      "Requirement already satisfied: numpy>=1.22.4 in /Users/d.o.npat/anaconda3/lib/python3.10/site-packages (from pandas) (1.26.4)\n",
      "Requirement already satisfied: msgpack<2.0.0,>=0.5.2 in /Users/d.o.npat/anaconda3/lib/python3.10/site-packages (from cachecontrol>=0.12.6->firebase_admin) (1.0.8)\n",
      "Requirement already satisfied: requests>=2.16.0 in /Users/d.o.npat/anaconda3/lib/python3.10/site-packages (from cachecontrol>=0.12.6->firebase_admin) (2.32.3)\n",
      "Requirement already satisfied: googleapis-common-protos<2.0dev,>=1.56.2 in /Users/d.o.npat/anaconda3/lib/python3.10/site-packages (from google-api-core[grpc]<3.0.0dev,>=1.22.1->firebase_admin) (1.59.0)\n",
      "Requirement already satisfied: protobuf!=3.20.0,!=3.20.1,!=4.21.0,!=4.21.1,!=4.21.2,!=4.21.3,!=4.21.4,!=4.21.5,<5.0.0dev,>=3.19.5 in /Users/d.o.npat/anaconda3/lib/python3.10/site-packages (from google-api-core[grpc]<3.0.0dev,>=1.22.1->firebase_admin) (4.23.1)\n",
      "Requirement already satisfied: google-auth<3.0dev,>=2.14.1 in /Users/d.o.npat/anaconda3/lib/python3.10/site-packages (from google-api-core[grpc]<3.0.0dev,>=1.22.1->firebase_admin) (2.33.0)\n",
      "Requirement already satisfied: grpcio-status<2.0dev,>=1.33.2 in /Users/d.o.npat/anaconda3/lib/python3.10/site-packages (from google-api-core[grpc]<3.0.0dev,>=1.22.1->firebase_admin) (1.62.3)\n",
      "Requirement already satisfied: grpcio<2.0dev,>=1.33.2 in /Users/d.o.npat/anaconda3/lib/python3.10/site-packages (from google-api-core[grpc]<3.0.0dev,>=1.22.1->firebase_admin) (1.65.4)\n",
      "Requirement already satisfied: google-auth-httplib2>=0.1.0 in /Users/d.o.npat/anaconda3/lib/python3.10/site-packages (from google-api-python-client>=1.7.8->firebase_admin) (0.1.0)\n",
      "Requirement already satisfied: httplib2<1dev,>=0.15.0 in /Users/d.o.npat/anaconda3/lib/python3.10/site-packages (from google-api-python-client>=1.7.8->firebase_admin) (0.22.0)\n",
      "Requirement already satisfied: uritemplate<5,>=3.0.1 in /Users/d.o.npat/anaconda3/lib/python3.10/site-packages (from google-api-python-client>=1.7.8->firebase_admin) (4.1.1)\n",
      "Requirement already satisfied: proto-plus<2.0.0dev,>=1.22.0 in /Users/d.o.npat/anaconda3/lib/python3.10/site-packages (from google-cloud-firestore>=2.9.1->firebase_admin) (1.24.0)\n",
      "Requirement already satisfied: google-cloud-core<3.0.0dev,>=1.4.1 in /Users/d.o.npat/anaconda3/lib/python3.10/site-packages (from google-cloud-firestore>=2.9.1->firebase_admin) (2.4.1)\n",
      "Requirement already satisfied: google-resumable-media>=2.6.0 in /Users/d.o.npat/anaconda3/lib/python3.10/site-packages (from google-cloud-storage>=1.37.1->firebase_admin) (2.7.2)\n",
      "Requirement already satisfied: google-crc32c<2.0dev,>=1.0 in /Users/d.o.npat/anaconda3/lib/python3.10/site-packages (from google-cloud-storage>=1.37.1->firebase_admin) (1.5.0)\n",
      "Requirement already satisfied: cryptography>=3.4.0 in /Users/d.o.npat/anaconda3/lib/python3.10/site-packages (from pyjwt[crypto]>=2.5.0->firebase_admin) (42.0.5)\n",
      "Requirement already satisfied: six>=1.5 in /Users/d.o.npat/anaconda3/lib/python3.10/site-packages (from python-dateutil>=2.8.2->pandas) (1.16.0)\n",
      "Requirement already satisfied: cffi>=1.12 in /Users/d.o.npat/anaconda3/lib/python3.10/site-packages (from cryptography>=3.4.0->pyjwt[crypto]>=2.5.0->firebase_admin) (1.16.0)\n",
      "Requirement already satisfied: cachetools<6.0,>=2.0.0 in /Users/d.o.npat/anaconda3/lib/python3.10/site-packages (from google-auth<3.0dev,>=2.14.1->google-api-core[grpc]<3.0.0dev,>=1.22.1->firebase_admin) (5.3.0)\n",
      "Requirement already satisfied: rsa<5,>=3.1.4 in /Users/d.o.npat/anaconda3/lib/python3.10/site-packages (from google-auth<3.0dev,>=2.14.1->google-api-core[grpc]<3.0.0dev,>=1.22.1->firebase_admin) (4.9)\n",
      "Requirement already satisfied: pyasn1-modules>=0.2.1 in /Users/d.o.npat/anaconda3/lib/python3.10/site-packages (from google-auth<3.0dev,>=2.14.1->google-api-core[grpc]<3.0.0dev,>=1.22.1->firebase_admin) (0.4.0)\n",
      "Requirement already satisfied: pyparsing!=3.0.0,!=3.0.1,!=3.0.2,!=3.0.3,<4,>=2.4.2 in /Users/d.o.npat/anaconda3/lib/python3.10/site-packages (from httplib2<1dev,>=0.15.0->google-api-python-client>=1.7.8->firebase_admin) (3.1.2)\n",
      "Requirement already satisfied: certifi>=2017.4.17 in /Users/d.o.npat/anaconda3/lib/python3.10/site-packages (from requests>=2.16.0->cachecontrol>=0.12.6->firebase_admin) (2024.6.2)\n",
      "Requirement already satisfied: charset-normalizer<4,>=2 in /Users/d.o.npat/anaconda3/lib/python3.10/site-packages (from requests>=2.16.0->cachecontrol>=0.12.6->firebase_admin) (2.0.4)\n",
      "Requirement already satisfied: urllib3<3,>=1.21.1 in /Users/d.o.npat/anaconda3/lib/python3.10/site-packages (from requests>=2.16.0->cachecontrol>=0.12.6->firebase_admin) (2.2.1)\n",
      "Requirement already satisfied: idna<4,>=2.5 in /Users/d.o.npat/anaconda3/lib/python3.10/site-packages (from requests>=2.16.0->cachecontrol>=0.12.6->firebase_admin) (3.7)\n",
      "Requirement already satisfied: pycparser in /Users/d.o.npat/anaconda3/lib/python3.10/site-packages (from cffi>=1.12->cryptography>=3.4.0->pyjwt[crypto]>=2.5.0->firebase_admin) (2.21)\n",
      "Requirement already satisfied: pyasn1<0.7.0,>=0.4.6 in /Users/d.o.npat/anaconda3/lib/python3.10/site-packages (from pyasn1-modules>=0.2.1->google-auth<3.0dev,>=2.14.1->google-api-core[grpc]<3.0.0dev,>=1.22.1->firebase_admin) (0.6.0)\n"
     ]
    }
   ],
   "source": [
    "\"\"\"\n",
    "\tFirebase Realtime database demonstration.\n",
    "    \n",
    "    @Ahsan Habib\n",
    "    School of IT,\n",
    "    Deakin University, Australia.\n",
    "\"\"\"\n",
    "\n",
    "# Install libraris, if not yet.\n",
    "! pip install firebase_admin pandas\n",
    "\n",
    "import firebase_admin\n",
    "\n",
    "databaseURL = 'https://data-83b30-default-rtdb.firebaseio.com/'\n",
    "cred_obj = firebase_admin.credentials.Certificate(\n",
    "    'data-83b30-firebase-adminsdk-bagyf-e99b2a2ee3.json'\n",
    ")\n",
    "default_app = firebase_admin.initialize_app(cred_obj, {\n",
    "\t'databaseURL':databaseURL\n",
    "\t})"
   ]
  },
  {
   "cell_type": "code",
   "execution_count": 3,
   "metadata": {},
   "outputs": [],
   "source": [
    "from firebase_admin import db\n",
    "\n",
    "# A reference point is always needed to be set\n",
    "# before any operation is carried out on a database.\n",
    "# \n",
    "ref = db.reference(\"/\")\n",
    "\n",
    "# JSON format data (key/value pair)\n",
    "data = {  # Outer {} contains inner data structure\n",
    "\t\"Book1\":\n",
    "\t{\n",
    "\t\t\"Title\": \"The Fellowship of the Ring\",\n",
    "\t\t\"Author\": \"J.R.R. Tolkien\",\n",
    "\t\t\"Genre\": \"Epic fantasy\",\n",
    "\t\t\"Price\": 100\n",
    "\t},\n",
    "\t\"Book2\":\n",
    "\t{\n",
    "\t\t\"Title\": \"The Two Towers\",\n",
    "\t\t\"Author\": \"J.R.R. Tolkien\",\n",
    "\t\t\"Genre\": \"Epic fantasy\",\n",
    "\t\t\"Price\": 100\t\n",
    "\t},\n",
    "\t\"Book3\":\n",
    "\t{\n",
    "\t\t\"Title\": \"The Return of the King\",\n",
    "\t\t\"Author\": \"J.R.R. Tolkien\",\n",
    "\t\t\"Genre\": \"Epic fantasy\",\n",
    "\t\t\"Price\": 100\n",
    "\t},\n",
    "\t\"Book4\":\n",
    "\t{\n",
    "\t\t\"Title\": \"Brida\",\n",
    "\t\t\"Author\": \"Paulo Coelho\",\n",
    "\t\t\"Genre\": \"Fiction\",\n",
    "\t\t\"Price\": 100\n",
    "\t}\n",
    "}\n",
    "\n",
    "# JSON format data is set (overwritten) to the reference \n",
    "# point set at /, which is the root node.\n",
    "# \n",
    "ref.set(data)"
   ]
  },
  {
   "cell_type": "code",
   "execution_count": 4,
   "metadata": {},
   "outputs": [
    {
     "name": "stdout",
     "output_type": "stream",
     "text": [
      "{'Book1': {'Author': 'J.R.R. Tolkien', 'Genre': 'Epic fantasy', 'Price': 100, 'Title': 'The Fellowship of the Ring'}, 'Book2': {'Author': 'J.R.R. Tolkien', 'Genre': 'Epic fantasy', 'Price': 100, 'Title': 'The Two Towers'}, 'Book3': {'Author': 'J.R.R. Tolkien', 'Genre': 'Epic fantasy', 'Price': 100, 'Title': 'The Return of the King'}, 'Book4': {'Author': 'Paulo Coelho', 'Genre': 'Fiction', 'Price': 100, 'Title': 'Brida'}}\n",
      "<class 'dict'>\n",
      "Book1: {'Author': 'J.R.R. Tolkien', 'Genre': 'Epic fantasy', 'Price': 100, 'Title': 'The Fellowship of the Ring'}\n",
      "Book2: {'Author': 'J.R.R. Tolkien', 'Genre': 'Epic fantasy', 'Price': 100, 'Title': 'The Two Towers'}\n",
      "Book3: {'Author': 'J.R.R. Tolkien', 'Genre': 'Epic fantasy', 'Price': 100, 'Title': 'The Return of the King'}\n",
      "Book4: {'Author': 'Paulo Coelho', 'Genre': 'Fiction', 'Price': 100, 'Title': 'Brida'}\n",
      "{'Author': 'J.R.R. Tolkien', 'Genre': 'Epic fantasy', 'Price': 100, 'Title': 'The Fellowship of the Ring'}\n"
     ]
    }
   ],
   "source": [
    "ref = db.reference(\"/\")  # set ref point\n",
    "\n",
    "# query all data under the ref\n",
    "books = ref.get()  \n",
    "print(books)\n",
    "print(type(books))\n",
    "\n",
    "# print each item separately\n",
    "for key, value in books.items():\n",
    "    print(f\"{key}: {value}\")\n",
    "\n",
    "\n",
    "# Query /Book1\n",
    "ref = db.reference(\"/Book1\")\n",
    "books = ref.get()\n",
    "print(books)"
   ]
  },
  {
   "cell_type": "code",
   "execution_count": 5,
   "metadata": {},
   "outputs": [],
   "source": [
    "\n",
    "ref = db.reference(\"/\")\n",
    "ref.set({\n",
    "\t\"Books\":\n",
    "\t{\n",
    "\t\t\"Best_Sellers\": -1\n",
    "\t}\n",
    "})\n",
    "\n",
    "ref = db.reference(\"/Books/Best_Sellers\")\n",
    "\n",
    "for key, value in data.items():\n",
    "\tref.push().set(value)"
   ]
  },
  {
   "cell_type": "code",
   "execution_count": 6,
   "metadata": {},
   "outputs": [
    {
     "name": "stdout",
     "output_type": "stream",
     "text": [
      "{'-O3yfGMyzzof2g-bCBiV': {'Author': 'J.R.R. Tolkien', 'Genre': 'Epic fantasy', 'Price': 100, 'Title': 'The Fellowship of the Ring'}, '-O3yfGV7kGJ3JuIJg83q': {'Author': 'J.R.R. Tolkien', 'Genre': 'Epic fantasy', 'Price': 100, 'Title': 'The Two Towers'}, '-O3yfGboh8Rz9hXIxUvx': {'Author': 'J.R.R. Tolkien', 'Genre': 'Epic fantasy', 'Price': 100, 'Title': 'The Return of the King'}, '-O3yfGjcVaUFGE18KXVx': {'Author': 'Paulo Coelho', 'Genre': 'Fiction', 'Price': 100, 'Title': 'Brida'}}\n"
     ]
    }
   ],
   "source": [
    "# Update data\n",
    "# \n",
    "# Requirement: The price of the books by \n",
    "# J. R. R. Tolkien is reduced to 80 units to \n",
    "# offer a discount.\n",
    "# \n",
    "ref = db.reference(\"/Books/Best_Sellers/\")\n",
    "best_sellers = ref.get()\n",
    "print(best_sellers)\n",
    "for key, value in best_sellers.items():\n",
    "\tif(value[\"Author\"] == \"J.R.R. Tolkien\"):\n",
    "\t\tvalue[\"Price\"] = 90\n",
    "\t\tref.child(key).update({\"Price\":80})"
   ]
  },
  {
   "cell_type": "code",
   "execution_count": 7,
   "metadata": {},
   "outputs": [],
   "source": [
    "# Let's delete all best seller books \n",
    "# with J.R.R. Tolkien as the author.\n",
    "# \n",
    "ref = db.reference(\"/Books/Best_Sellers\")\n",
    "\n",
    "for key, value in best_sellers.items():\n",
    "\tif(value[\"Author\"] == \"J.R.R. Tolkien\"):\n",
    "\t\tref.child(key).set({})"
   ]
  },
  {
   "cell_type": "code",
   "execution_count": 8,
   "metadata": {},
   "outputs": [
    {
     "name": "stdout",
     "output_type": "stream",
     "text": [
      "{'-O3yfGjcVaUFGE18KXVx': {'Author': 'Paulo Coelho', 'Genre': 'Fiction', 'Price': 100, 'Title': 'Brida'}}\n",
      "<class 'dict'>\n"
     ]
    }
   ],
   "source": [
    "# Delete all best_seller data.\n",
    "# \n",
    "ref = db.reference(\"/Books/Best_Sellers/\")\n",
    "best_sellers = ref.get()\n",
    "print(best_sellers)\n",
    "print(type(best_sellers))"
   ]
  },
  {
   "cell_type": "code",
   "execution_count": 9,
   "metadata": {},
   "outputs": [],
   "source": [
    "ref = db.reference(\"/Books/Best_Sellers\")\n",
    "ref.set({})"
   ]
  },
  {
   "cell_type": "code",
   "execution_count": null,
   "metadata": {},
   "outputs": [],
   "source": []
  }
 ],
 "metadata": {
  "kernelspec": {
   "display_name": "Python 3 (ipykernel)",
   "language": "python",
   "name": "python3"
  },
  "language_info": {
   "codemirror_mode": {
    "name": "ipython",
    "version": 3
   },
   "file_extension": ".py",
   "mimetype": "text/x-python",
   "name": "python",
   "nbconvert_exporter": "python",
   "pygments_lexer": "ipython3",
   "version": "3.10.14"
  }
 },
 "nbformat": 4,
 "nbformat_minor": 4
}
