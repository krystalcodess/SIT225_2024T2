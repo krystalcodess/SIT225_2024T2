{
 "cells": [
  {
   "cell_type": "code",
   "execution_count": 1,
   "metadata": {},
   "outputs": [
    {
     "name": "stdout",
     "output_type": "stream",
     "text": [
      "223212228 Krystal_Nguyen\n"
     ]
    }
   ],
   "source": [
    "# Fill in student ID and name\n",
    "# \n",
    "student_id = \"223212228\"\n",
    "student_first_last_name = \"Krystal_Nguyen\"\n",
    "print(student_id, student_first_last_name)"
   ]
  },
  {
   "cell_type": "code",
   "execution_count": 2,
   "metadata": {},
   "outputs": [
    {
     "name": "stdout",
     "output_type": "stream",
     "text": [
      "Requirement already satisfied: plotly in /Users/d.o.npat/anaconda3/lib/python3.10/site-packages (5.22.0)\n",
      "Requirement already satisfied: dash in /Users/d.o.npat/anaconda3/lib/python3.10/site-packages (2.17.1)\n",
      "Requirement already satisfied: tenacity>=6.2.0 in /Users/d.o.npat/anaconda3/lib/python3.10/site-packages (from plotly) (8.3.0)\n",
      "Requirement already satisfied: packaging in /Users/d.o.npat/anaconda3/lib/python3.10/site-packages (from plotly) (23.2)\n",
      "Requirement already satisfied: setuptools in /Users/d.o.npat/anaconda3/lib/python3.10/site-packages (from dash) (65.6.3)\n",
      "Requirement already satisfied: dash-html-components==2.0.0 in /Users/d.o.npat/anaconda3/lib/python3.10/site-packages (from dash) (2.0.0)\n",
      "Requirement already satisfied: importlib-metadata in /Users/d.o.npat/anaconda3/lib/python3.10/site-packages (from dash) (7.2.0)\n",
      "Requirement already satisfied: Werkzeug<3.1 in /Users/d.o.npat/anaconda3/lib/python3.10/site-packages (from dash) (3.0.3)\n",
      "Requirement already satisfied: Flask<3.1,>=1.0.4 in /Users/d.o.npat/anaconda3/lib/python3.10/site-packages (from dash) (3.0.3)\n",
      "Requirement already satisfied: requests in /Users/d.o.npat/anaconda3/lib/python3.10/site-packages (from dash) (2.32.3)\n",
      "Requirement already satisfied: retrying in /Users/d.o.npat/anaconda3/lib/python3.10/site-packages (from dash) (1.3.4)\n",
      "Requirement already satisfied: nest-asyncio in /Users/d.o.npat/anaconda3/lib/python3.10/site-packages (from dash) (1.6.0)\n",
      "Requirement already satisfied: typing-extensions>=4.1.1 in /Users/d.o.npat/anaconda3/lib/python3.10/site-packages (from dash) (4.12.2)\n",
      "Requirement already satisfied: dash-table==5.0.0 in /Users/d.o.npat/anaconda3/lib/python3.10/site-packages (from dash) (5.0.0)\n",
      "Requirement already satisfied: dash-core-components==2.0.0 in /Users/d.o.npat/anaconda3/lib/python3.10/site-packages (from dash) (2.0.0)\n",
      "Requirement already satisfied: itsdangerous>=2.1.2 in /Users/d.o.npat/anaconda3/lib/python3.10/site-packages (from Flask<3.1,>=1.0.4->dash) (2.2.0)\n",
      "Requirement already satisfied: click>=8.1.3 in /Users/d.o.npat/anaconda3/lib/python3.10/site-packages (from Flask<3.1,>=1.0.4->dash) (8.1.7)\n",
      "Requirement already satisfied: blinker>=1.6.2 in /Users/d.o.npat/anaconda3/lib/python3.10/site-packages (from Flask<3.1,>=1.0.4->dash) (1.8.2)\n",
      "Requirement already satisfied: Jinja2>=3.1.2 in /Users/d.o.npat/anaconda3/lib/python3.10/site-packages (from Flask<3.1,>=1.0.4->dash) (3.1.4)\n",
      "Requirement already satisfied: MarkupSafe>=2.1.1 in /Users/d.o.npat/anaconda3/lib/python3.10/site-packages (from Werkzeug<3.1->dash) (2.1.3)\n",
      "Requirement already satisfied: zipp>=0.5 in /Users/d.o.npat/anaconda3/lib/python3.10/site-packages (from importlib-metadata->dash) (3.19.2)\n",
      "Requirement already satisfied: idna<4,>=2.5 in /Users/d.o.npat/anaconda3/lib/python3.10/site-packages (from requests->dash) (3.7)\n",
      "Requirement already satisfied: certifi>=2017.4.17 in /Users/d.o.npat/anaconda3/lib/python3.10/site-packages (from requests->dash) (2024.6.2)\n",
      "Requirement already satisfied: charset-normalizer<4,>=2 in /Users/d.o.npat/anaconda3/lib/python3.10/site-packages (from requests->dash) (2.0.4)\n",
      "Requirement already satisfied: urllib3<3,>=1.21.1 in /Users/d.o.npat/anaconda3/lib/python3.10/site-packages (from requests->dash) (2.2.1)\n",
      "Requirement already satisfied: six>=1.7.0 in /Users/d.o.npat/anaconda3/lib/python3.10/site-packages (from retrying->dash) (1.16.0)\n",
      "5.22.0\n",
      "2.17.1\n"
     ]
    }
   ],
   "source": [
    "# install plotly and dash, if not yet already\n",
    "! pip install plotly dash\n",
    "\n",
    "import plotly, dash\n",
    "print(plotly.__version__)\n",
    "print(dash.__version__)"
   ]
  },
  {
   "cell_type": "markdown",
   "metadata": {},
   "source": [
    "# Hello world\n",
    "Building and launching an app with Dash can be done with just 5 lines of code.\n",
    "Follow the tutorial (https://dash.plotly.com/tutorial) for more detail."
   ]
  },
  {
   "cell_type": "code",
   "execution_count": 3,
   "metadata": {},
   "outputs": [
    {
     "name": "stdout",
     "output_type": "stream",
     "text": [
      "Dash app running on http://127.0.0.1:8050/\n"
     ]
    },
    {
     "data": {
      "application/javascript": [
       "window.open('http://127.0.0.1:8050/')"
      ],
      "text/plain": [
       "<IPython.core.display.Javascript object>"
      ]
     },
     "metadata": {},
     "output_type": "display_data"
    }
   ],
   "source": [
    "from dash import Dash, html\n",
    "\n",
    "\"\"\"\n",
    "Initialize the app. \n",
    "This line is known as the Dash constructor and is responsible for initializing your app.\n",
    "It is almost always the same for any Dash app you create.\n",
    "\"\"\"\n",
    "app = Dash()\n",
    "\n",
    "\"\"\"\n",
    "App layout.\n",
    "The app layout represents the app components that will be displayed in the web browser and\n",
    "here is provided as a list, though it could also be a Dash component.\n",
    "In this example, we have two components added to the list: two html.Div elements.\n",
    "The Divs have a few properties, such as children, which we use to add text content to the page.\n",
    "\"\"\"\n",
    "app.layout = [\n",
    "    html.Div(children='Hello World'),\n",
    "    html.Div(children='My name is Krystal Nguyen')\n",
    "]\n",
    "\n",
    "if __name__ == '__main__':\n",
    "    app.run(debug=True, jupyter_mode=\"tab\")"
   ]
  },
  {
   "cell_type": "markdown",
   "metadata": {},
   "source": [
    "# Connecting to Data\n",
    "\n",
    "There are many ways to add data to an app: APIs, external databases, local .txt files, JSON files, and more. In this example, we will highlight one of the most common ways of incorporating data from a CSV sheet."
   ]
  },
  {
   "cell_type": "code",
   "execution_count": 4,
   "metadata": {},
   "outputs": [
    {
     "name": "stdout",
     "output_type": "stream",
     "text": [
      "       country         pop continent  lifeExp     gdpPercap\n",
      "0  Afghanistan  31889923.0      Asia   43.828    974.580338\n",
      "1      Albania   3600523.0    Europe   76.423   5937.029526\n",
      "2      Algeria  33333216.0    Africa   72.301   6223.367465\n",
      "3       Angola  12420476.0    Africa   42.731   4797.231267\n",
      "4    Argentina  40301927.0  Americas   75.320  12779.379640\n",
      "Data rowsXcols: (142, 5)\n"
     ]
    },
    {
     "data": {
      "text/html": [
       "\n",
       "        <iframe\n",
       "            width=\"100%\"\n",
       "            height=\"650\"\n",
       "            src=\"http://127.0.0.1:8050/\"\n",
       "            frameborder=\"0\"\n",
       "            allowfullscreen\n",
       "            \n",
       "        ></iframe>\n",
       "        "
      ],
      "text/plain": [
       "<IPython.lib.display.IFrame at 0x10e88cb80>"
      ]
     },
     "metadata": {},
     "output_type": "display_data"
    }
   ],
   "source": [
    "# Import packages\n",
    "import ssl\n",
    "import certifi\n",
    "import urllib.request\n",
    "from dash import Dash, html, dash_table\n",
    "import pandas as pd\n",
    "import io\n",
    "\n",
    "# Create a custom SSL context using certifi\n",
    "ssl_context = ssl.create_default_context(cafile=certifi.where())\n",
    "\n",
    "# Use the custom SSL context when opening the URL\n",
    "url = 'https://raw.githubusercontent.com/plotly/datasets/master/gapminder2007.csv'\n",
    "with urllib.request.urlopen(url, context=ssl_context) as response:\n",
    "    csv_data = response.read().decode('utf-8')\n",
    "\n",
    "# Incorporate data\n",
    "df = pd.read_csv(io.StringIO(csv_data))\n",
    "\n",
    "# Explore data\n",
    "print(df.head())\n",
    "print(\"Data rowsXcols:\", df.shape)\n",
    "\n",
    "# Initialize the app\n",
    "app = Dash()\n",
    "\n",
    "# App layout with multiple DataTables of different page sizes\n",
    "app.layout = html.Div([\n",
    "    html.H1(children='My First App with Data - Page Size Comparison'),\n",
    "    \n",
    "    html.H2(children='Table with 5 rows per page'),\n",
    "    dash_table.DataTable(\n",
    "        id='table-5-rows',\n",
    "        data=df.to_dict('records'),\n",
    "        columns=[{\"name\": i, \"id\": i} for i in df.columns],\n",
    "        page_size=5\n",
    "    ),\n",
    "    \n",
    "    html.H2(children='Table with 10 rows per page'),\n",
    "    dash_table.DataTable(\n",
    "        id='table-10-rows',\n",
    "        data=df.to_dict('records'),\n",
    "        columns=[{\"name\": i, \"id\": i} for i in df.columns],\n",
    "        page_size=10\n",
    "    ),\n",
    "    \n",
    "    html.H2(children='Table with 20 rows per page'),\n",
    "    dash_table.DataTable(\n",
    "        id='table-20-rows',\n",
    "        data=df.to_dict('records'),\n",
    "        columns=[{\"name\": i, \"id\": i} for i in df.columns],\n",
    "        page_size=20\n",
    "    )\n",
    "])\n",
    "\n",
    "# Run the app\n",
    "if __name__ == '__main__':\n",
    "    app.run(debug=True)"
   ]
  },
  {
   "cell_type": "markdown",
   "metadata": {},
   "source": [
    "# Visualising data\n",
    "\n",
    "The Plotly graphing library has more than 50 chart types to choose from. In this example, we will make use of the histogram chart."
   ]
  },
  {
   "cell_type": "code",
   "execution_count": 5,
   "metadata": {},
   "outputs": [
    {
     "data": {
      "text/html": [
       "\n",
       "        <iframe\n",
       "            width=\"100%\"\n",
       "            height=\"650\"\n",
       "            src=\"http://127.0.0.1:8050/\"\n",
       "            frameborder=\"0\"\n",
       "            allowfullscreen\n",
       "            \n",
       "        ></iframe>\n",
       "        "
      ],
      "text/plain": [
       "<IPython.lib.display.IFrame at 0x12976cc10>"
      ]
     },
     "metadata": {},
     "output_type": "display_data"
    }
   ],
   "source": [
    "import ssl\n",
    "import certifi\n",
    "import urllib.request\n",
    "from dash import Dash, html, dash_table, dcc\n",
    "import plotly.express as px\n",
    "import pandas as pd\n",
    "import io\n",
    "\n",
    "# Create a custom SSL context using certifi\n",
    "ssl_context = ssl.create_default_context(cafile=certifi.where())\n",
    "\n",
    "# Use the custom SSL context when opening the URL\n",
    "url = 'https://raw.githubusercontent.com/plotly/datasets/master/gapminder2007.csv'\n",
    "with urllib.request.urlopen(url, context=ssl_context) as response:\n",
    "    csv_data = response.read().decode('utf-8')\n",
    "\n",
    "# Read the CSV data\n",
    "df = pd.read_csv(io.StringIO(csv_data))\n",
    "\n",
    "# Initialize the app\n",
    "app = Dash()\n",
    "\n",
    "# App layout\n",
    "app.layout = html.Div([\n",
    "    html.H1(children='Histogram Function Comparison'),\n",
    "    dash_table.DataTable(data=df.to_dict('records'), page_size=10),\n",
    "    html.H2(children='Average Life Expectancy by Continent'),\n",
    "    dcc.Graph(figure=px.histogram(df, x='continent', y='lifeExp', histfunc='avg', title='Average (default)')),\n",
    "    html.H2(children='Sum of Life Expectancy by Continent'),\n",
    "    dcc.Graph(figure=px.histogram(df, x='continent', y='lifeExp', histfunc='sum', title='Sum')),\n",
    "    html.H2(children='Maximum Life Expectancy by Continent'),\n",
    "    dcc.Graph(figure=px.histogram(df, x='continent', y='lifeExp', histfunc='max', title='Maximum')),\n",
    "    html.H2(children='Minimum Life Expectancy by Continent'),\n",
    "    dcc.Graph(figure=px.histogram(df, x='continent', y='lifeExp', histfunc='min', title='Minimum')),\n",
    "    html.H2(children='Count of Countries by Continent'),\n",
    "    dcc.Graph(figure=px.histogram(df, x='continent', histfunc='count', title='Count'))\n",
    "])\n",
    "\n",
    "# Run the app\n",
    "if __name__ == '__main__':\n",
    "    app.run(debug=True)"
   ]
  },
  {
   "cell_type": "markdown",
   "metadata": {},
   "source": [
    "# Controls and Callbacks\n",
    "\n",
    "So far you have built a static app that displays tabular data and a graph. However, as you develop more sophisticated Dash apps, you will likely want to give the app user more freedom to interact with the app and explore the data in greater depth. To achieve that, you will need to add controls to the app by using the callback function.\n",
    "\n",
    "In this example we will add radio buttons to the app layout. Then, we will build the callback to create the interaction between the radio buttons and the histogram chart."
   ]
  },
  {
   "cell_type": "code",
   "execution_count": 6,
   "metadata": {},
   "outputs": [
    {
     "data": {
      "text/html": [
       "\n",
       "        <iframe\n",
       "            width=\"100%\"\n",
       "            height=\"650\"\n",
       "            src=\"http://127.0.0.1:8050/\"\n",
       "            frameborder=\"0\"\n",
       "            allowfullscreen\n",
       "            \n",
       "        ></iframe>\n",
       "        "
      ],
      "text/plain": [
       "<IPython.lib.display.IFrame at 0x12976cbb0>"
      ]
     },
     "metadata": {},
     "output_type": "display_data"
    }
   ],
   "source": [
    "import ssl\n",
    "import certifi\n",
    "import urllib.request\n",
    "from dash import Dash, html, dash_table, dcc, callback, Output, Input\n",
    "import plotly.express as px\n",
    "import pandas as pd\n",
    "import io\n",
    "\n",
    "# Create a custom SSL context using certifi\n",
    "ssl_context = ssl.create_default_context(cafile=certifi.where())\n",
    "\n",
    "# Use the custom SSL context when opening the URL\n",
    "url = 'https://raw.githubusercontent.com/plotly/datasets/master/gapminder2007.csv'\n",
    "with urllib.request.urlopen(url, context=ssl_context) as response:\n",
    "    csv_data = response.read().decode('utf-8')\n",
    "\n",
    "# Incorporate data\n",
    "df = pd.read_csv(io.StringIO(csv_data))\n",
    "\n",
    "# Initialize the app\n",
    "app = Dash()\n",
    "\n",
    "# App layout\n",
    "app.layout = html.Div([\n",
    "    html.H1(children='My First App with Data, Graph, and Controls'),\n",
    "    html.Hr(),\n",
    "    dcc.RadioItems(options=['pop', 'lifeExp', 'gdpPercap'], value='lifeExp', id='controls-and-radio-item'),\n",
    "    dash_table.DataTable(data=df.to_dict('records'), page_size=6),\n",
    "    dcc.Graph(figure={}, id='controls-and-graph')\n",
    "])\n",
    "\n",
    "# Add controls to build the interaction\n",
    "@callback(\n",
    "    Output(component_id='controls-and-graph', component_property='figure'),\n",
    "    Input(component_id='controls-and-radio-item', component_property='value')\n",
    ")\n",
    "def update_graph(col_chosen):\n",
    "    fig = px.line(df, x='country', y=col_chosen, color='continent', \n",
    "                  title=f'{col_chosen} by Country, colored by Continent')\n",
    "    fig.update_xaxes(tickangle=45)\n",
    "    return fig\n",
    "\n",
    "# Run the app\n",
    "if __name__ == '__main__':\n",
    "    app.run(debug=True)"
   ]
  }
 ],
 "metadata": {
  "kernelspec": {
   "display_name": "Python 3 (ipykernel)",
   "language": "python",
   "name": "python3"
  },
  "language_info": {
   "codemirror_mode": {
    "name": "ipython",
    "version": 3
   },
   "file_extension": ".py",
   "mimetype": "text/x-python",
   "name": "python",
   "nbconvert_exporter": "python",
   "pygments_lexer": "ipython3",
   "version": "3.10.14"
  }
 },
 "nbformat": 4,
 "nbformat_minor": 4
}
